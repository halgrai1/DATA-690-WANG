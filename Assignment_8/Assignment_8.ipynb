{
  "cells": [
    {
      "cell_type": "markdown",
      "source": "# Assignment 8\n\n**Student:** Hala Algrain\n**Date:** 4.18.2021",
      "metadata": {
        "tags": [],
        "cell_id": "00000-788e192d-f8c1-4e94-8343-dc5a9bbe17ee",
        "deepnote_cell_type": "markdown"
      }
    },
    {
      "cell_type": "markdown",
      "source": "### You will upload the zip file (300 some MB) to deepnote or use Linux Terminal command line wget command.\n\n### You will unzip the file using Linux Terminal unzip command.",
      "metadata": {
        "tags": [],
        "cell_id": "00001-12c6cf2f-22e7-42e3-a689-01d7454bcbf7",
        "deepnote_cell_type": "markdown"
      }
    },
    {
      "cell_type": "code",
      "source": "! wget https://ed-public-download.app.cloud.gov/downloads/CollegeScorecard_Raw_Data_01192021.zip",
      "metadata": {
        "tags": [],
        "cell_id": "00002-bef47f82-c5e7-4a02-8d57-4efd0f1d1fad",
        "deepnote_to_be_reexecuted": false,
        "source_hash": "e084706b",
        "execution_start": 1618794925919,
        "execution_millis": 20681,
        "deepnote_cell_type": "code"
      },
      "outputs": [
        {
          "name": "stdout",
          "text": "--2021-04-19 01:15:26--  https://ed-public-download.app.cloud.gov/downloads/CollegeScorecard_Raw_Data_01192021.zip\nResolving ed-public-download.app.cloud.gov (ed-public-download.app.cloud.gov)... 3.32.179.149, 52.61.177.234, 2600:1f12:18a:7d00:ad35:f69:2399:483f, ...\nConnecting to ed-public-download.app.cloud.gov (ed-public-download.app.cloud.gov)|3.32.179.149|:443... connected.\nHTTP request sent, awaiting response... 200 OK\nLength: 385541173 (368M) [application/zip]\nSaving to: ‘CollegeScorecard_Raw_Data_01192021.zip’\n\nCollegeScorecard_Ra 100%[===================>] 367.68M  20.9MB/s    in 18s     \n\n2021-04-19 01:15:46 (19.9 MB/s) - ‘CollegeScorecard_Raw_Data_01192021.zip’ saved [385541173/385541173]\n\n",
          "output_type": "stream"
        }
      ],
      "execution_count": 1
    },
    {
      "cell_type": "code",
      "source": "! unzip CollegeScorecard_Raw_Data_01192021.zip",
      "metadata": {
        "tags": [],
        "cell_id": "00003-cec59cb4-3a88-451c-8c30-fc3a1ee765af",
        "deepnote_to_be_reexecuted": false,
        "source_hash": "9d9ea69",
        "execution_start": 1618795294939,
        "execution_millis": 43499,
        "deepnote_cell_type": "code"
      },
      "outputs": [
        {
          "name": "stdout",
          "text": "Archive:  CollegeScorecard_Raw_Data_01192021.zip\n   creating: Raw Data Files/\n  inflating: Raw Data Files/MERGED2011_12_PP.csv  \n  inflating: Raw Data Files/MERGED1999_00_PP.csv  \n  inflating: Raw Data Files/MERGED2006_07_PP.csv  \n  inflating: Raw Data Files/MERGED2014_15_PP.csv  \n  inflating: Raw Data Files/Most-Recent-Cohorts-All-Data-Elements.csv  \n  inflating: __MACOSX/Raw Data Files/._Most-Recent-Cohorts-All-Data-Elements.csv  \n  inflating: Raw Data Files/MERGED2003_04_PP.csv  \n  inflating: Raw Data Files/MERGED1996_97_PP.csv  \n  inflating: Raw Data Files/FieldOfStudyData1516_1617_PP.csv  \n  inflating: Raw Data Files/Most-Recent-Cohorts-Field-of-Study.csv  \n  inflating: Raw Data Files/MERGED2012_13_PP.csv  \n  inflating: Raw Data Files/MERGED2005_06_PP.csv  \n  inflating: Raw Data Files/MERGED2009_10_PP.csv  \n  inflating: Raw Data Files/FieldOfStudyData1617_1718_PP.csv  \n  inflating: Raw Data Files/MERGED2018_19_PP.csv  \n  inflating: Raw Data Files/MERGED2017_18_PP.csv  \n  inflating: Raw Data Files/Crosswalks.zip  \n  inflating: __MACOSX/Raw Data Files/._Crosswalks.zip  \n  inflating: Raw Data Files/MERGED2000_01_PP.csv  \n  inflating: Raw Data Files/MERGED2001_02_PP.csv  \n  inflating: Raw Data Files/MERGED2016_17_PP.csv  \n  inflating: Raw Data Files/MERGED1997_98_PP.csv  \n  inflating: Raw Data Files/MERGED1998_99_PP.csv  \n  inflating: Raw Data Files/data.yaml  \n  inflating: Raw Data Files/MERGED2004_05_PP.csv  \n  inflating: Raw Data Files/MERGED2002_03_PP.csv  \n  inflating: Raw Data Files/MERGED2015_16_PP.csv  \n  inflating: Raw Data Files/MERGED2013_14_PP.csv  \n  inflating: Raw Data Files/MERGED2007_08_PP.csv  \n  inflating: Raw Data Files/MERGED2008_09_PP.csv  \n  inflating: Raw Data Files/MERGED2010_11_PP.csv  \n  inflating: Raw Data Files/FieldOfStudyData1415_1516_PP.csv  \n  inflating: __MACOSX/Raw Data Files/._FieldOfStudyData1415_1516_PP.csv  \n",
          "output_type": "stream"
        }
      ],
      "execution_count": 3
    },
    {
      "cell_type": "markdown",
      "source": "### 1 - Import necessary libraries",
      "metadata": {
        "tags": [],
        "cell_id": "00004-9f42a4e1-4874-459e-bea6-32c377e63598",
        "deepnote_cell_type": "markdown"
      }
    },
    {
      "cell_type": "code",
      "source": "import pandas as pd\nimport plotly.express as px\nimport plotly.io as pio\nimport os, sys\nimport random",
      "metadata": {
        "tags": [],
        "cell_id": "00005-7a3b7deb-7d2d-4a53-93c0-506c73db5413",
        "deepnote_to_be_reexecuted": false,
        "source_hash": "3342f0a",
        "execution_millis": 1,
        "execution_start": 1618795844535,
        "deepnote_cell_type": "code"
      },
      "outputs": [],
      "execution_count": 8
    },
    {
      "cell_type": "markdown",
      "source": "### 2 - Retrieve the names of the 22 files and assign them to a List variable\n* You would need to filter out other files\n* Display the names of these 22 files",
      "metadata": {
        "tags": [],
        "cell_id": "00006-add6c11e-dd9c-475e-b97c-942b2c1a0956",
        "deepnote_cell_type": "markdown"
      }
    },
    {
      "cell_type": "code",
      "source": "file_list = os.listdir(\"/work/Raw_Data_Files\") \nfile_list = [i for i in file_list if \"MERGED\" in i]\nfile_list",
      "metadata": {
        "tags": [],
        "cell_id": "00007-91465fb5-49cd-4cf9-b336-32d25c5b9fb8",
        "deepnote_to_be_reexecuted": false,
        "source_hash": "12d85d93",
        "execution_millis": 5,
        "execution_start": 1618796321743,
        "deepnote_cell_type": "code"
      },
      "outputs": [
        {
          "output_type": "execute_result",
          "execution_count": 49,
          "data": {
            "text/plain": "['MERGED2016_17_PP.csv',\n 'MERGED2008_09_PP.csv',\n 'MERGED2014_15_PP.csv',\n 'MERGED2001_02_PP.csv',\n 'MERGED2017_18_PP.csv',\n 'MERGED2009_10_PP.csv',\n 'MERGED2003_04_PP.csv',\n 'MERGED1998_99_PP.csv',\n 'MERGED2010_11_PP.csv',\n 'MERGED2005_06_PP.csv',\n 'MERGED1999_00_PP.csv',\n 'MERGED2012_13_PP.csv',\n 'MERGED2006_07_PP.csv',\n 'MERGED2018_19_PP.csv',\n 'MERGED2004_05_PP.csv',\n 'MERGED2011_12_PP.csv',\n 'MERGED2007_08_PP.csv',\n 'MERGED1996_97_PP.csv',\n 'MERGED2013_14_PP.csv',\n 'MERGED2000_01_PP.csv',\n 'MERGED2015_16_PP.csv',\n 'MERGED1997_98_PP.csv',\n 'MERGED2002_03_PP.csv']"
          },
          "metadata": {}
        }
      ],
      "execution_count": 49
    },
    {
      "cell_type": "code",
      "source": "cd /work/Raw_Data_Files",
      "metadata": {
        "tags": [],
        "cell_id": "00008-97cc4bac-0d6b-43bf-a917-76575aeb77e0",
        "deepnote_to_be_reexecuted": false,
        "source_hash": "d76ee57f",
        "execution_start": 1618796435295,
        "execution_millis": 4,
        "deepnote_cell_type": "code"
      },
      "outputs": [
        {
          "name": "stdout",
          "text": "/work/Raw_Data_Files\n",
          "output_type": "stream"
        }
      ],
      "execution_count": 52
    },
    {
      "cell_type": "markdown",
      "source": "### 3 - Write code to randomly select one file name out of the 22 files names. \n* Hint: generate a random integer between 0 and 21 first\n* Display the file name",
      "metadata": {
        "tags": [],
        "cell_id": "00008-7a3f45bb-94bd-4e49-be3b-f3f3353e29e6",
        "deepnote_cell_type": "markdown"
      }
    },
    {
      "cell_type": "code",
      "source": "rand_idx = random.randint(0, 21)\nrand_file = file_list[rand_idx]\n\nprint(rand_file)\n",
      "metadata": {
        "tags": [],
        "cell_id": "00009-c134c160-b245-4116-ad60-a873bcaf873e",
        "deepnote_to_be_reexecuted": false,
        "source_hash": "a4a19087",
        "execution_millis": 7,
        "execution_start": 1618797108112,
        "deepnote_cell_type": "code"
      },
      "outputs": [
        {
          "name": "stdout",
          "text": "MERGED2007_08_PP.csv\n",
          "output_type": "stream"
        }
      ],
      "execution_count": 68
    },
    {
      "cell_type": "markdown",
      "source": "### 4 - Only read the two columns: college name (INSTNM) and in state tution (\"TUITIONFEE_IN\") from this file into a data frame and display use info() function to display a summary information",
      "metadata": {
        "tags": [],
        "cell_id": "00010-057067d4-dffc-4d5a-94e2-d3eb8309cd93",
        "deepnote_cell_type": "markdown"
      }
    },
    {
      "cell_type": "code",
      "source": "df = pd.read_csv(rand_file, usecols = [\"INSTNM\", \"TUITIONFEE_IN\"])\n\ndf.info()",
      "metadata": {
        "tags": [],
        "cell_id": "00011-02125a1a-8a1d-40a9-9766-b4ab1a86a8ee",
        "deepnote_to_be_reexecuted": false,
        "source_hash": "591bdf35",
        "execution_millis": 1270,
        "execution_start": 1618797110914,
        "deepnote_cell_type": "code"
      },
      "outputs": [
        {
          "name": "stdout",
          "text": "<class 'pandas.core.frame.DataFrame'>\nRangeIndex: 6971 entries, 0 to 6970\nData columns (total 2 columns):\n #   Column         Non-Null Count  Dtype  \n---  ------         --------------  -----  \n 0   INSTNM         6971 non-null   object \n 1   TUITIONFEE_IN  4183 non-null   float64\ndtypes: float64(1), object(1)\nmemory usage: 109.0+ KB\n",
          "output_type": "stream"
        }
      ],
      "execution_count": 69
    },
    {
      "cell_type": "markdown",
      "source": "### 5 - Find out how many observations have missing value.\n",
      "metadata": {
        "tags": [],
        "cell_id": "00013-3310e3d0-3296-40b8-a9d2-8977295222ea",
        "deepnote_cell_type": "markdown"
      }
    },
    {
      "cell_type": "code",
      "source": "df.isnull().sum()",
      "metadata": {
        "tags": [],
        "cell_id": "00014-200b59ea-86b7-440d-9ede-6aa5ffa36389",
        "deepnote_to_be_reexecuted": false,
        "source_hash": "f3dd26da",
        "execution_millis": 16,
        "execution_start": 1618797117637,
        "deepnote_cell_type": "code"
      },
      "outputs": [
        {
          "output_type": "execute_result",
          "execution_count": 70,
          "data": {
            "text/plain": "INSTNM              0\nTUITIONFEE_IN    2788\ndtype: int64"
          },
          "metadata": {}
        }
      ],
      "execution_count": 70
    },
    {
      "cell_type": "code",
      "source": "len(df)",
      "metadata": {
        "tags": [],
        "cell_id": "00015-d82664d6-8852-4211-bcaa-2277ce24d93a",
        "deepnote_to_be_reexecuted": false,
        "source_hash": "2f88c77a",
        "execution_start": 1618797137543,
        "execution_millis": 9,
        "deepnote_cell_type": "code"
      },
      "outputs": [
        {
          "output_type": "execute_result",
          "execution_count": 71,
          "data": {
            "text/plain": "6971"
          },
          "metadata": {}
        }
      ],
      "execution_count": 71
    },
    {
      "cell_type": "markdown",
      "source": "### 6 - Drop those observations with missing value\n* Display the number of observations afterward",
      "metadata": {
        "tags": [],
        "cell_id": "00015-db2ab08e-94e3-482e-8efd-59411d437428",
        "deepnote_cell_type": "markdown"
      }
    },
    {
      "cell_type": "code",
      "source": "df.dropna(axis =0, how =\"any\", inplace=True)",
      "metadata": {
        "tags": [],
        "cell_id": "00016-50e8751e-140e-42d3-b877-65e93d404229",
        "deepnote_to_be_reexecuted": false,
        "source_hash": "803affc9",
        "execution_millis": 1,
        "execution_start": 1618797600871,
        "deepnote_cell_type": "code"
      },
      "outputs": [],
      "execution_count": 79
    },
    {
      "cell_type": "code",
      "source": "len(df)",
      "metadata": {
        "tags": [],
        "cell_id": "00018-90c34456-132e-45fc-94c1-27ba4b8e20de",
        "deepnote_to_be_reexecuted": false,
        "source_hash": "2f88c77a",
        "execution_millis": 9,
        "execution_start": 1618797605067,
        "deepnote_cell_type": "code"
      },
      "outputs": [
        {
          "output_type": "execute_result",
          "execution_count": 80,
          "data": {
            "text/plain": "4183"
          },
          "metadata": {}
        }
      ],
      "execution_count": 80
    },
    {
      "cell_type": "code",
      "source": "print(\" \\nCount total NaN at each column in a DataFrame : \\n\\n\",\n      df.isnull().sum())",
      "metadata": {
        "tags": [],
        "cell_id": "00018-e9ba0600-c9ef-455e-9e9c-95c289ae89c3",
        "deepnote_to_be_reexecuted": false,
        "source_hash": "5428e6dc",
        "execution_millis": 4,
        "execution_start": 1618797614031,
        "deepnote_cell_type": "code"
      },
      "outputs": [
        {
          "name": "stdout",
          "text": " \nCount total NaN at each column in a DataFrame : \n\n INSTNM           0\nTUITIONFEE_IN    0\ndtype: int64\n",
          "output_type": "stream"
        }
      ],
      "execution_count": 81
    },
    {
      "cell_type": "markdown",
      "source": "### 7 - Find out how many observations have 0 tuition.\n",
      "metadata": {
        "tags": [],
        "cell_id": "00020-45164a73-b14e-4b84-b42e-70f4ddc04869",
        "deepnote_cell_type": "markdown"
      }
    },
    {
      "cell_type": "code",
      "source": "zero_tuit = df[df[\"TUITIONFEE_IN\"] == 0]\nzero_tuit.count()",
      "metadata": {
        "tags": [],
        "cell_id": "00021-a00a5668-d326-453b-971b-512eff825aab",
        "deepnote_to_be_reexecuted": false,
        "source_hash": "25fc5768",
        "execution_start": 1618797950644,
        "execution_millis": 14,
        "deepnote_cell_type": "code"
      },
      "outputs": [
        {
          "output_type": "execute_result",
          "execution_count": 82,
          "data": {
            "text/plain": "INSTNM           5\nTUITIONFEE_IN    5\ndtype: int64"
          },
          "metadata": {}
        }
      ],
      "execution_count": 82
    },
    {
      "cell_type": "markdown",
      "source": "### 8 - Drop those observations with 0 tuition\n* Display the number of observations afterward",
      "metadata": {
        "tags": [],
        "cell_id": "00022-98a53249-e4fb-4b69-a4ce-85dd2596b628",
        "deepnote_cell_type": "markdown"
      }
    },
    {
      "cell_type": "code",
      "source": "indexNames = df[df[\"TUITIONFEE_IN\"] == 0].index\n \n# Delete these row indexes from dataFrame\ndf.drop(indexNames , inplace=True)",
      "metadata": {
        "tags": [],
        "cell_id": "00023-60947f08-fdf1-4aff-ac66-40e85f89e059",
        "deepnote_to_be_reexecuted": false,
        "source_hash": "45a3dcf7",
        "execution_start": 1618798120686,
        "execution_millis": 3,
        "deepnote_cell_type": "code"
      },
      "outputs": [],
      "execution_count": 83
    },
    {
      "cell_type": "code",
      "source": "len(df) # 5 less than previous 4183",
      "metadata": {
        "tags": [],
        "cell_id": "00024-941820d7-f0f0-424e-9dec-d473776f8754",
        "deepnote_to_be_reexecuted": false,
        "source_hash": "2f88c77a",
        "execution_start": 1618798122641,
        "execution_millis": 12,
        "deepnote_cell_type": "code"
      },
      "outputs": [
        {
          "output_type": "execute_result",
          "execution_count": 84,
          "data": {
            "text/plain": "4178"
          },
          "metadata": {}
        }
      ],
      "execution_count": 84
    },
    {
      "cell_type": "markdown",
      "source": "### 9 - Calculate and display the mean (average) of the tuitions of all the remaining observations\n",
      "metadata": {
        "tags": [],
        "cell_id": "00025-4e659103-82b5-4188-a4d3-71edec13c839",
        "deepnote_cell_type": "markdown"
      }
    },
    {
      "cell_type": "code",
      "source": "tuit_mean= df[\"TUITIONFEE_IN\"].mean()\nprint(tuit_mean)",
      "metadata": {
        "tags": [],
        "cell_id": "00026-c0ccc1f9-be37-42d7-b8eb-86c554647b9d",
        "deepnote_to_be_reexecuted": false,
        "source_hash": "a4820f6f",
        "execution_millis": 13,
        "execution_start": 1618798842930,
        "deepnote_cell_type": "code"
      },
      "outputs": [
        {
          "name": "stdout",
          "text": "10732.077549066538\n",
          "output_type": "stream"
        }
      ],
      "execution_count": 110
    },
    {
      "cell_type": "markdown",
      "source": "### 10 - Randomly select just 1 observation from the data frame.\n* Display the tuition of that observation.",
      "metadata": {
        "tags": [],
        "cell_id": "00027-f82ed395-b8bb-468e-8cbf-e5b37a582168",
        "deepnote_cell_type": "markdown"
      }
    },
    {
      "cell_type": "code",
      "source": "df.reset_index(inplace = True)",
      "metadata": {
        "tags": [],
        "cell_id": "00028-1677889e-2be1-4fe0-90b5-e2f5f0aba2fc",
        "deepnote_to_be_reexecuted": false,
        "source_hash": "18f2be51",
        "execution_millis": 0,
        "output_cleared": true,
        "execution_start": 1618798746898,
        "deepnote_cell_type": "code"
      },
      "outputs": [],
      "execution_count": 99
    },
    {
      "cell_type": "code",
      "source": "rand_idx2 = random.randint(0, 4177)\nrand_obs = df.loc[rand_idx2].at[\"TUITIONFEE_IN\"]\n\nprint(rand_obs)",
      "metadata": {
        "tags": [],
        "cell_id": "00028-bdbcc8d5-a904-438f-87bb-3a7b26e06a6a",
        "deepnote_to_be_reexecuted": false,
        "source_hash": "64674948",
        "execution_millis": 8,
        "execution_start": 1618798763241,
        "deepnote_cell_type": "code"
      },
      "outputs": [
        {
          "name": "stdout",
          "text": "10080.0\n",
          "output_type": "stream"
        }
      ],
      "execution_count": 108
    },
    {
      "cell_type": "markdown",
      "source": "### 11 - Calculate the different between the tuition of this observation and the mean tuition off all observations calculated earlier.\n* Display the difference",
      "metadata": {
        "tags": [],
        "cell_id": "00030-2cb63b8e-43bc-4847-89a5-eb33dcea5b0e",
        "deepnote_cell_type": "markdown"
      }
    },
    {
      "cell_type": "code",
      "source": "diff = rand_obs - tuit_mean\nprint(diff)",
      "metadata": {
        "tags": [],
        "cell_id": "00031-6054aa43-8dd4-47bd-8158-3917c1174a01",
        "deepnote_to_be_reexecuted": false,
        "source_hash": "8676b016",
        "execution_millis": 11,
        "execution_start": 1618798889043,
        "deepnote_cell_type": "code"
      },
      "outputs": [
        {
          "name": "stdout",
          "text": "-652.0775490665383\n",
          "output_type": "stream"
        }
      ],
      "execution_count": 112
    },
    {
      "cell_type": "markdown",
      "source": "### 12 - Repeat 10 to 11 several times get the feel of the size of the difference in means\n",
      "metadata": {
        "tags": [],
        "cell_id": "00032-629f751d-2d38-4027-b0c6-fad9691c12a7",
        "deepnote_cell_type": "markdown"
      }
    },
    {
      "cell_type": "code",
      "source": "for i in range(10):\n    rand_idx3 = random.randint(0, 4177)\n    rand_obs = df.loc[rand_idx3].at[\"TUITIONFEE_IN\"]\n    diff = rand_obs - tuit_mean\n    print(diff)",
      "metadata": {
        "tags": [],
        "cell_id": "00033-87ffe93d-f495-4b21-8cf0-a56db8abd5aa",
        "deepnote_to_be_reexecuted": false,
        "source_hash": "7aa350fd",
        "execution_millis": 7,
        "execution_start": 1618799173583,
        "deepnote_cell_type": "code"
      },
      "outputs": [
        {
          "name": "stdout",
          "text": "20827.92245093346\n-7137.077549066538\n3667.9224509334617\n1761.9224509334617\n18837.92245093346\n-0.07754906653826765\n-3927.0775490665383\n-8527.077549066538\n2787.9224509334617\n-8716.077549066538\n",
          "output_type": "stream"
        }
      ],
      "execution_count": 117
    },
    {
      "cell_type": "markdown",
      "source": "### 13 - Randomly select 20 observations, display the tuition of these observation.\n",
      "metadata": {
        "tags": [],
        "cell_id": "00034-9ccde0de-f3bd-4845-b686-766f291c09d0",
        "deepnote_cell_type": "markdown"
      }
    },
    {
      "cell_type": "code",
      "source": "rand_list = []\nfor i in range(20):\n    rand_idx = random.randint(0, 4177)\n    rand_obs = df.loc[rand_idx].at[\"TUITIONFEE_IN\"]\n    print(rand_obs)\n    rand_list.append(rand_obs)",
      "metadata": {
        "tags": [],
        "cell_id": "00035-7c5086e3-922c-45ca-83e8-26934f9e12e9",
        "deepnote_to_be_reexecuted": false,
        "source_hash": "8164abe9",
        "execution_millis": 11,
        "execution_start": 1618799246749,
        "deepnote_cell_type": "code"
      },
      "outputs": [
        {
          "name": "stdout",
          "text": "31804.0\n18760.0\n17920.0\n21384.0\n20900.0\n40975.0\n21350.0\n29000.0\n2971.0\n22195.0\n15600.0\n12253.0\n20788.0\n1776.0\n11340.0\n11712.0\n4696.0\n35600.0\n20860.0\n30090.0\n",
          "output_type": "stream"
        }
      ],
      "execution_count": 120
    },
    {
      "cell_type": "markdown",
      "source": "### 14 - Calculate and display the mean tuition of these 20 observations\n",
      "metadata": {
        "tags": [],
        "cell_id": "00036-a2244219-d66e-47c2-b97c-3ecf4390a02e",
        "deepnote_cell_type": "markdown"
      }
    },
    {
      "cell_type": "code",
      "source": "mean_list = sum(rand_list) / len(rand_list)\nprint(mean_list)",
      "metadata": {
        "tags": [],
        "cell_id": "00037-c12991d0-b6c6-4e68-8cbb-091013aff42e",
        "deepnote_to_be_reexecuted": false,
        "source_hash": "402746b1",
        "execution_millis": 6,
        "execution_start": 1618799491882,
        "deepnote_cell_type": "code"
      },
      "outputs": [
        {
          "name": "stdout",
          "text": "19598.7\n",
          "output_type": "stream"
        }
      ],
      "execution_count": 124
    },
    {
      "cell_type": "markdown",
      "source": "### 15 - Calculate  the difference between the average tuition of these 20 observations and the mean tuition off all observations calculated earlier.\n* Display the difference",
      "metadata": {
        "tags": [],
        "cell_id": "00038-48d6118d-48b5-4268-ad9e-3cda03f8d329",
        "deepnote_cell_type": "markdown"
      }
    },
    {
      "cell_type": "code",
      "source": "diff2 = mean_list - tuit_mean\nprint(diff2)",
      "metadata": {
        "tags": [],
        "cell_id": "00039-7908be3c-e062-4183-b58d-5c688178b327",
        "deepnote_to_be_reexecuted": false,
        "source_hash": "f606c38f",
        "execution_start": 1618799553558,
        "execution_millis": 8,
        "deepnote_cell_type": "code"
      },
      "outputs": [
        {
          "name": "stdout",
          "text": "8866.622450933462\n",
          "output_type": "stream"
        }
      ],
      "execution_count": 125
    },
    {
      "cell_type": "markdown",
      "source": "### 16 - Repeat 13 to 15 several times and get the feel of the size of the difference in means \n",
      "metadata": {
        "tags": [],
        "cell_id": "00040-820738fc-cc23-4766-85f0-7121c784017e",
        "deepnote_cell_type": "markdown"
      }
    },
    {
      "cell_type": "code",
      "source": "tuit_mean",
      "metadata": {
        "tags": [],
        "cell_id": "00041-1e524495-61be-4ea9-8493-cbd766d4113d",
        "deepnote_to_be_reexecuted": false,
        "source_hash": "7b72a075",
        "execution_start": 1618800732876,
        "deepnote_cell_type": "code"
      },
      "outputs": [
        {
          "output_type": "execute_result",
          "execution_count": 144,
          "data": {
            "text/plain": "10732.077549066538"
          },
          "metadata": {}
        }
      ],
      "execution_count": 144
    },
    {
      "cell_type": "code",
      "source": "exercise_16 = []\nfor i in range(15):\n    for j in range(20):\n        rand_list =[]\n        rand_idx = random.randint(0, 4177)\n        rand_obs = df.loc[rand_idx].at[\"TUITIONFEE_IN\"]\n        rand_list.append(rand_obs)\n    mean_list = sum(rand_list) / len(rand_list)\n    diff3 = mean_list - tuit_mean\n    print(diff3)\n    exercise_16.append(diff3)",
      "metadata": {
        "tags": [],
        "cell_id": "00041-4f01e432-cf2e-4480-a494-a07654275567",
        "deepnote_to_be_reexecuted": false,
        "source_hash": "390c69ad",
        "execution_millis": 39,
        "output_cleared": false,
        "execution_start": 1618801318351,
        "deepnote_cell_type": "code"
      },
      "outputs": [
        {
          "name": "stdout",
          "text": "4867.922450933462\n731.9224509334617\n6652.922450933462\n4867.922450933462\n-4066.0775490665383\n-7342.077549066538\n-2732.0775490665383\n-7602.077549066538\n-8166.077549066538\n8117.922450933462\n18187.92245093346\n-1627.0775490665383\n-8242.077549066538\n25967.92245093346\n1537.9224509334617\n",
          "output_type": "stream"
        }
      ],
      "execution_count": 147
    },
    {
      "cell_type": "markdown",
      "source": "* Compare these differences with the differences calculated earlier with just 1 observation\n* Describe your hunch/conclusion",
      "metadata": {
        "tags": [],
        "cell_id": "00043-97209ac0-72af-48ad-9e21-9a07f2d82299",
        "deepnote_cell_type": "markdown"
      }
    },
    {
      "cell_type": "code",
      "source": "print(min(exercise_16))\nprint(max(exercise_16))\nprint(sum(exercise_16)/len(exercise_16))",
      "metadata": {
        "tags": [],
        "cell_id": "00043-8306afb2-7b2f-4967-a0b3-226d5f4cb162",
        "deepnote_to_be_reexecuted": false,
        "source_hash": "d9eb286d",
        "execution_millis": 8,
        "execution_start": 1618801328589,
        "deepnote_cell_type": "code"
      },
      "outputs": [
        {
          "name": "stdout",
          "text": "-8242.077549066538\n25967.92245093346\n2076.989117600128\n",
          "output_type": "stream"
        }
      ],
      "execution_count": 148
    },
    {
      "cell_type": "markdown",
      "source": "The first difference we calculated with just one observations was -652. While our range in this experiment was from -8,242 to 25,967. And the average of all the 15 differences we calculated is -2,076. \n\nThere is a lot of variance in the tuitions of all the universities. I suspect most tuitions are much higher than 10,000 average we calculated earlier.",
      "metadata": {
        "tags": [],
        "cell_id": "00043-82e3c22f-eb3a-4a3b-8590-b3f4420a4011",
        "deepnote_cell_type": "markdown"
      }
    },
    {
      "cell_type": "markdown",
      "source": "### 17 - write function Code here:\n\n#### Write a function that take two input parameters:\n\n* x (number of observations)\n* y (the name of the dataframe).\n\n#### The function will perform the following:\n\n* Randomly select x observations from y\n* Calculate the mean of these x observations\n* Calculate the mean of all observations\n* Calculate the difference between the two means\n* Return the difference",
      "metadata": {
        "tags": [],
        "cell_id": "00046-565617a7-dd20-459c-9c4b-1a5d6f1bddc6",
        "deepnote_cell_type": "markdown"
      }
    },
    {
      "cell_type": "code",
      "source": "def mean_diff(x,y):\n    all_obs =[]\n    for i in range(x):\n        rand_idx = random.randint(0, 4177)\n        obs = y.loc[rand_idx].at[\"TUITIONFEE_IN\"]\n        all_obs.append(obs)\n    mean_obs = sum(all_obs) / len(all_obs)\n    diff = mean_obs - tuit_mean\n    return diff",
      "metadata": {
        "tags": [],
        "cell_id": "00047-f2c8b5a6-cd6c-4ede-8007-960d87864c86",
        "deepnote_to_be_reexecuted": false,
        "source_hash": "3b6efcfe",
        "execution_millis": 0,
        "execution_start": 1618801712806,
        "deepnote_cell_type": "code"
      },
      "outputs": [],
      "execution_count": 150
    },
    {
      "cell_type": "markdown",
      "source": "### 18 - test the function by passing a sample size and the name of the dataframe\n* Display the return of the function",
      "metadata": {
        "tags": [],
        "cell_id": "00048-6f4fbb72-dee5-4a84-8787-2a2c3613b0ee",
        "deepnote_cell_type": "markdown"
      }
    },
    {
      "cell_type": "code",
      "source": "# testing function using:\n# sample size 5\n# dataframe df\n\nmean_diff(5,df)",
      "metadata": {
        "tags": [],
        "cell_id": "00049-2f038bfc-2c23-44e1-b5e7-90d53ae377c8",
        "deepnote_to_be_reexecuted": false,
        "source_hash": "1adb1534",
        "execution_start": 1618801724565,
        "execution_millis": 20,
        "deepnote_cell_type": "code"
      },
      "outputs": [
        {
          "output_type": "execute_result",
          "execution_count": 151,
          "data": {
            "text/plain": "904.5224509334621"
          },
          "metadata": {}
        }
      ],
      "execution_count": 151
    },
    {
      "cell_type": "markdown",
      "source": "### 19 - Create a list of sequence numbers from 1 to 50, name it \"sample_sizes\";\n* display it to make sure its members are from 1 to 50",
      "metadata": {
        "tags": [],
        "cell_id": "00050-491c4250-2fb8-44a2-b4e7-e0720f9a2aa6",
        "deepnote_cell_type": "markdown"
      }
    },
    {
      "cell_type": "code",
      "source": "sample_sizes = list(range(1,51))\nprint(sample_sizes)",
      "metadata": {
        "tags": [],
        "cell_id": "00051-6dc25f19-9390-45cb-a989-ef54417897a4",
        "deepnote_to_be_reexecuted": false,
        "source_hash": "40c578cc",
        "execution_millis": 5,
        "execution_start": 1618801844095,
        "deepnote_cell_type": "code"
      },
      "outputs": [
        {
          "name": "stdout",
          "text": "[1, 2, 3, 4, 5, 6, 7, 8, 9, 10, 11, 12, 13, 14, 15, 16, 17, 18, 19, 20, 21, 22, 23, 24, 25, 26, 27, 28, 29, 30, 31, 32, 33, 34, 35, 36, 37, 38, 39, 40, 41, 42, 43, 44, 45, 46, 47, 48, 49, 50]\n",
          "output_type": "stream"
        }
      ],
      "execution_count": 153
    },
    {
      "cell_type": "markdown",
      "source": "### 20 - Create an empty list and name it \"means_diff\" for differences of population mean and sample means;\n* Loop through the list sample_sizes:\n* For each element in the sample size list, obtain a random sample of that size from the data frame;\n* Calculate the sample mean \n* Calculate the difference between the population mean and the sample mean\n* Append the difference to the list \"means_diff\"\n* Display the list \"means_diff\" after the loop is completed",
      "metadata": {
        "tags": [],
        "cell_id": "00052-84415437-fdd7-489f-989f-a33a455b7ed1",
        "deepnote_cell_type": "markdown"
      }
    },
    {
      "cell_type": "code",
      "source": "pop_mean = tuit_mean",
      "metadata": {
        "tags": [],
        "cell_id": "00053-8559309e-4914-4af3-adbe-a0b951ec5f44",
        "deepnote_to_be_reexecuted": false,
        "source_hash": "f365d016",
        "execution_millis": 2,
        "execution_start": 1618802342610,
        "deepnote_cell_type": "code"
      },
      "outputs": [],
      "execution_count": 158
    },
    {
      "cell_type": "code",
      "source": "means_diff = []\nfor i in sample_sizes:\n    all_obs =[]\n    for j in range(i):\n        rand_idx = random.randint(0, 4177)\n        obs = df.loc[rand_idx].at[\"TUITIONFEE_IN\"]\n        all_obs.append(obs)\n    sample_mean = sum(all_obs) / len(all_obs)\n    diff = sample_mean - pop_mean\n    means_diff.append(diff)\n    \nfor k in means_diff:\n    print(k)",
      "metadata": {
        "tags": [],
        "cell_id": "00054-c3aec426-ae86-4e40-b69b-eb0fbe0011fe",
        "deepnote_to_be_reexecuted": false,
        "source_hash": "5a34cd39",
        "execution_millis": 194,
        "output_cleared": false,
        "execution_start": 1618802552860,
        "deepnote_cell_type": "code"
      },
      "outputs": [
        {
          "name": "stdout",
          "text": "2447.9224509334617\n12436.922450933462\n-1037.0775490665383\n2215.4224509334617\n-7794.877549066538\n5208.922450933462\n417.63673664774797\n-3307.8275490665383\n-404.2997712887609\n506.92245093346173\n1428.7406327516437\n4708.672450933462\n-366.3083182973078\n-1584.506120495109\n-1087.2108823998715\n-1348.8900490665383\n-3368.0187255371266\n-2600.8553268443156\n-158.7617595928532\n-596.1775490665386\n-2460.363263352252\n1757.8315418425518\n-606.2514621100163\n-1123.2858823998722\n646.6424509334611\n2672.345527856538\n2548.589117600128\n2233.7081652191755\n-1663.594790445848\n-514.5775490665383\n829.4708380302363\n211.89120093346173\n664.3163903274017\n-1802.9304902430085\n1179.2938795048904\n1415.0057842667957\n436.4629914740017\n1038.26455619662\n-1328.5134465024348\n-692.777549066539\n780.9224509334617\n2055.446260457271\n785.248032328811\n3292.9224509334617\n1161.6335620445734\n205.22679875954782\n641.8160679547382\n1718.6724509334617\n1934.7591856273393\n445.44245093346217\n",
          "output_type": "stream"
        }
      ],
      "execution_count": 170
    },
    {
      "cell_type": "code",
      "source": "len(means_diff)",
      "metadata": {
        "tags": [],
        "cell_id": "00055-10b77511-0c03-4af8-adf5-f6f86e6dd4ad",
        "deepnote_to_be_reexecuted": false,
        "source_hash": "65afd674",
        "execution_millis": 15,
        "execution_start": 1618802555937,
        "deepnote_cell_type": "code"
      },
      "outputs": [
        {
          "output_type": "execute_result",
          "execution_count": 171,
          "data": {
            "text/plain": "50"
          },
          "metadata": {}
        }
      ],
      "execution_count": 171
    },
    {
      "cell_type": "markdown",
      "source": "### 21 - Make a scatter plot with sample size on the x-axs and  mean difference on the y-axis\n* Observe as the sample size increases, the sample means converge to the population mean.\n* Make sure you make the plot large enough",
      "metadata": {
        "tags": [],
        "cell_id": "00056-2fb26bf0-9056-4901-94cb-7d5472ac4d23",
        "deepnote_cell_type": "markdown"
      }
    },
    {
      "cell_type": "code",
      "source": "fig = px.scatter(x= sample_sizes, y=means_diff,\n                    labels={\"x\": \"Sample Sizes\", \"y\": \"Difference in Means\"},\n                    width=700, height=600)\n\nfig.update_layout( margin=dict(l=20, r=20, t=20, b=20),\n                    paper_bgcolor=\"plum\",)\nfig.show()",
      "metadata": {
        "tags": [],
        "cell_id": "00057-5d151ebb-7314-4d16-87b9-f4a32fba2ab5",
        "deepnote_to_be_reexecuted": false,
        "source_hash": "976f0979",
        "execution_millis": 73,
        "execution_start": 1618803120946,
        "deepnote_cell_type": "code"
      },
      "outputs": [
        {
          "data": {
            "text/html": "<html>\n<head><meta charset=\"utf-8\" /></head>\n<body>\n    <div>            <script src=\"https://cdnjs.cloudflare.com/ajax/libs/mathjax/2.7.5/MathJax.js?config=TeX-AMS-MML_SVG\"></script><script type=\"text/javascript\">if (window.MathJax) {MathJax.Hub.Config({SVG: {font: \"STIX-Web\"}});}</script>                <script type=\"text/javascript\">window.PlotlyConfig = {MathJaxConfig: 'local'};</script>\n        <script src=\"https://cdn.plot.ly/plotly-latest.min.js\"></script>                <div id=\"74635966-2f58-4da6-84a9-37f101e29fd1\" class=\"plotly-graph-div\" style=\"height:600px; width:700px;\"></div>            <script type=\"text/javascript\">                                    window.PLOTLYENV=window.PLOTLYENV || {};                                    if (document.getElementById(\"74635966-2f58-4da6-84a9-37f101e29fd1\")) {                    Plotly.newPlot(                        \"74635966-2f58-4da6-84a9-37f101e29fd1\",                        [{\"hovertemplate\": \"Sample Sizes=%{x}<br>Difference in Means=%{y}<extra></extra>\", \"legendgroup\": \"\", \"marker\": {\"color\": \"#636efa\", \"symbol\": \"circle\"}, \"mode\": \"markers\", \"name\": \"\", \"orientation\": \"v\", \"showlegend\": false, \"type\": \"scatter\", \"x\": [1, 2, 3, 4, 5, 6, 7, 8, 9, 10, 11, 12, 13, 14, 15, 16, 17, 18, 19, 20, 21, 22, 23, 24, 25, 26, 27, 28, 29, 30, 31, 32, 33, 34, 35, 36, 37, 38, 39, 40, 41, 42, 43, 44, 45, 46, 47, 48, 49, 50], \"xaxis\": \"x\", \"y\": [2447.9224509334617, 12436.922450933462, -1037.0775490665383, 2215.4224509334617, -7794.877549066538, 5208.922450933462, 417.63673664774797, -3307.8275490665383, -404.2997712887609, 506.92245093346173, 1428.7406327516437, 4708.672450933462, -366.3083182973078, -1584.506120495109, -1087.2108823998715, -1348.8900490665383, -3368.0187255371266, -2600.8553268443156, -158.7617595928532, -596.1775490665386, -2460.363263352252, 1757.8315418425518, -606.2514621100163, -1123.2858823998722, 646.6424509334611, 2672.345527856538, 2548.589117600128, 2233.7081652191755, -1663.594790445848, -514.5775490665383, 829.4708380302363, 211.89120093346173, 664.3163903274017, -1802.9304902430085, 1179.2938795048904, 1415.0057842667957, 436.4629914740017, 1038.26455619662, -1328.5134465024348, -692.777549066539, 780.9224509334617, 2055.446260457271, 785.248032328811, 3292.9224509334617, 1161.6335620445734, 205.22679875954782, 641.8160679547382, 1718.6724509334617, 1934.7591856273393, 445.44245093346217], \"yaxis\": \"y\"}],                        {\"height\": 600, \"legend\": {\"tracegroupgap\": 0}, \"margin\": {\"b\": 20, \"l\": 20, \"r\": 20, \"t\": 20}, \"paper_bgcolor\": \"plum\", \"template\": {\"data\": {\"bar\": [{\"error_x\": {\"color\": \"#2a3f5f\"}, \"error_y\": {\"color\": \"#2a3f5f\"}, \"marker\": {\"line\": {\"color\": \"#E5ECF6\", \"width\": 0.5}}, \"type\": \"bar\"}], \"barpolar\": [{\"marker\": {\"line\": {\"color\": \"#E5ECF6\", \"width\": 0.5}}, \"type\": \"barpolar\"}], \"carpet\": [{\"aaxis\": {\"endlinecolor\": \"#2a3f5f\", \"gridcolor\": \"white\", \"linecolor\": \"white\", \"minorgridcolor\": \"white\", \"startlinecolor\": \"#2a3f5f\"}, \"baxis\": {\"endlinecolor\": \"#2a3f5f\", \"gridcolor\": \"white\", \"linecolor\": \"white\", \"minorgridcolor\": \"white\", \"startlinecolor\": \"#2a3f5f\"}, \"type\": \"carpet\"}], \"choropleth\": [{\"colorbar\": {\"outlinewidth\": 0, \"ticks\": \"\"}, \"type\": \"choropleth\"}], \"contour\": [{\"colorbar\": {\"outlinewidth\": 0, \"ticks\": \"\"}, \"colorscale\": [[0.0, \"#0d0887\"], [0.1111111111111111, \"#46039f\"], [0.2222222222222222, \"#7201a8\"], [0.3333333333333333, \"#9c179e\"], [0.4444444444444444, \"#bd3786\"], [0.5555555555555556, \"#d8576b\"], [0.6666666666666666, \"#ed7953\"], [0.7777777777777778, \"#fb9f3a\"], [0.8888888888888888, \"#fdca26\"], [1.0, \"#f0f921\"]], \"type\": \"contour\"}], \"contourcarpet\": [{\"colorbar\": {\"outlinewidth\": 0, \"ticks\": \"\"}, \"type\": \"contourcarpet\"}], \"heatmap\": [{\"colorbar\": {\"outlinewidth\": 0, \"ticks\": \"\"}, \"colorscale\": [[0.0, \"#0d0887\"], [0.1111111111111111, \"#46039f\"], [0.2222222222222222, \"#7201a8\"], [0.3333333333333333, \"#9c179e\"], [0.4444444444444444, \"#bd3786\"], [0.5555555555555556, \"#d8576b\"], [0.6666666666666666, \"#ed7953\"], [0.7777777777777778, \"#fb9f3a\"], [0.8888888888888888, \"#fdca26\"], [1.0, \"#f0f921\"]], \"type\": \"heatmap\"}], \"heatmapgl\": [{\"colorbar\": {\"outlinewidth\": 0, \"ticks\": \"\"}, \"colorscale\": [[0.0, \"#0d0887\"], [0.1111111111111111, \"#46039f\"], [0.2222222222222222, \"#7201a8\"], [0.3333333333333333, \"#9c179e\"], [0.4444444444444444, \"#bd3786\"], [0.5555555555555556, \"#d8576b\"], [0.6666666666666666, \"#ed7953\"], [0.7777777777777778, \"#fb9f3a\"], [0.8888888888888888, \"#fdca26\"], [1.0, \"#f0f921\"]], \"type\": \"heatmapgl\"}], \"histogram\": [{\"marker\": {\"colorbar\": {\"outlinewidth\": 0, \"ticks\": \"\"}}, \"type\": \"histogram\"}], \"histogram2d\": [{\"colorbar\": {\"outlinewidth\": 0, \"ticks\": \"\"}, \"colorscale\": [[0.0, \"#0d0887\"], [0.1111111111111111, \"#46039f\"], [0.2222222222222222, \"#7201a8\"], [0.3333333333333333, \"#9c179e\"], [0.4444444444444444, \"#bd3786\"], [0.5555555555555556, \"#d8576b\"], [0.6666666666666666, \"#ed7953\"], [0.7777777777777778, \"#fb9f3a\"], [0.8888888888888888, \"#fdca26\"], [1.0, \"#f0f921\"]], \"type\": \"histogram2d\"}], \"histogram2dcontour\": [{\"colorbar\": {\"outlinewidth\": 0, \"ticks\": \"\"}, \"colorscale\": [[0.0, \"#0d0887\"], [0.1111111111111111, \"#46039f\"], [0.2222222222222222, \"#7201a8\"], [0.3333333333333333, \"#9c179e\"], [0.4444444444444444, \"#bd3786\"], [0.5555555555555556, \"#d8576b\"], [0.6666666666666666, \"#ed7953\"], [0.7777777777777778, \"#fb9f3a\"], [0.8888888888888888, \"#fdca26\"], [1.0, \"#f0f921\"]], \"type\": \"histogram2dcontour\"}], \"mesh3d\": [{\"colorbar\": {\"outlinewidth\": 0, \"ticks\": \"\"}, \"type\": \"mesh3d\"}], \"parcoords\": [{\"line\": {\"colorbar\": {\"outlinewidth\": 0, \"ticks\": \"\"}}, \"type\": \"parcoords\"}], \"pie\": [{\"automargin\": true, \"type\": \"pie\"}], \"scatter\": [{\"marker\": {\"colorbar\": {\"outlinewidth\": 0, \"ticks\": \"\"}}, \"type\": \"scatter\"}], \"scatter3d\": [{\"line\": {\"colorbar\": {\"outlinewidth\": 0, \"ticks\": \"\"}}, \"marker\": {\"colorbar\": {\"outlinewidth\": 0, \"ticks\": \"\"}}, \"type\": \"scatter3d\"}], \"scattercarpet\": [{\"marker\": {\"colorbar\": {\"outlinewidth\": 0, \"ticks\": \"\"}}, \"type\": \"scattercarpet\"}], \"scattergeo\": [{\"marker\": {\"colorbar\": {\"outlinewidth\": 0, \"ticks\": \"\"}}, \"type\": \"scattergeo\"}], \"scattergl\": [{\"marker\": {\"colorbar\": {\"outlinewidth\": 0, \"ticks\": \"\"}}, \"type\": \"scattergl\"}], \"scattermapbox\": [{\"marker\": {\"colorbar\": {\"outlinewidth\": 0, \"ticks\": \"\"}}, \"type\": \"scattermapbox\"}], \"scatterpolar\": [{\"marker\": {\"colorbar\": {\"outlinewidth\": 0, \"ticks\": \"\"}}, \"type\": \"scatterpolar\"}], \"scatterpolargl\": [{\"marker\": {\"colorbar\": {\"outlinewidth\": 0, \"ticks\": \"\"}}, \"type\": \"scatterpolargl\"}], \"scatterternary\": [{\"marker\": {\"colorbar\": {\"outlinewidth\": 0, \"ticks\": \"\"}}, \"type\": \"scatterternary\"}], \"surface\": [{\"colorbar\": {\"outlinewidth\": 0, \"ticks\": \"\"}, \"colorscale\": [[0.0, \"#0d0887\"], [0.1111111111111111, \"#46039f\"], [0.2222222222222222, \"#7201a8\"], [0.3333333333333333, \"#9c179e\"], [0.4444444444444444, \"#bd3786\"], [0.5555555555555556, \"#d8576b\"], [0.6666666666666666, \"#ed7953\"], [0.7777777777777778, \"#fb9f3a\"], [0.8888888888888888, \"#fdca26\"], [1.0, \"#f0f921\"]], \"type\": \"surface\"}], \"table\": [{\"cells\": {\"fill\": {\"color\": \"#EBF0F8\"}, \"line\": {\"color\": \"white\"}}, \"header\": {\"fill\": {\"color\": \"#C8D4E3\"}, \"line\": {\"color\": \"white\"}}, \"type\": \"table\"}]}, \"layout\": {\"annotationdefaults\": {\"arrowcolor\": \"#2a3f5f\", \"arrowhead\": 0, \"arrowwidth\": 1}, \"autotypenumbers\": \"strict\", \"coloraxis\": {\"colorbar\": {\"outlinewidth\": 0, \"ticks\": \"\"}}, \"colorscale\": {\"diverging\": [[0, \"#8e0152\"], [0.1, \"#c51b7d\"], [0.2, \"#de77ae\"], [0.3, \"#f1b6da\"], [0.4, \"#fde0ef\"], [0.5, \"#f7f7f7\"], [0.6, \"#e6f5d0\"], [0.7, \"#b8e186\"], [0.8, \"#7fbc41\"], [0.9, \"#4d9221\"], [1, \"#276419\"]], \"sequential\": [[0.0, \"#0d0887\"], [0.1111111111111111, \"#46039f\"], [0.2222222222222222, \"#7201a8\"], [0.3333333333333333, \"#9c179e\"], [0.4444444444444444, \"#bd3786\"], [0.5555555555555556, \"#d8576b\"], [0.6666666666666666, \"#ed7953\"], [0.7777777777777778, \"#fb9f3a\"], [0.8888888888888888, \"#fdca26\"], [1.0, \"#f0f921\"]], \"sequentialminus\": [[0.0, \"#0d0887\"], [0.1111111111111111, \"#46039f\"], [0.2222222222222222, \"#7201a8\"], [0.3333333333333333, \"#9c179e\"], [0.4444444444444444, \"#bd3786\"], [0.5555555555555556, \"#d8576b\"], [0.6666666666666666, \"#ed7953\"], [0.7777777777777778, \"#fb9f3a\"], [0.8888888888888888, \"#fdca26\"], [1.0, \"#f0f921\"]]}, \"colorway\": [\"#636efa\", \"#EF553B\", \"#00cc96\", \"#ab63fa\", \"#FFA15A\", \"#19d3f3\", \"#FF6692\", \"#B6E880\", \"#FF97FF\", \"#FECB52\"], \"font\": {\"color\": \"#2a3f5f\"}, \"geo\": {\"bgcolor\": \"white\", \"lakecolor\": \"white\", \"landcolor\": \"#E5ECF6\", \"showlakes\": true, \"showland\": true, \"subunitcolor\": \"white\"}, \"hoverlabel\": {\"align\": \"left\"}, \"hovermode\": \"closest\", \"mapbox\": {\"style\": \"light\"}, \"paper_bgcolor\": \"white\", \"plot_bgcolor\": \"#E5ECF6\", \"polar\": {\"angularaxis\": {\"gridcolor\": \"white\", \"linecolor\": \"white\", \"ticks\": \"\"}, \"bgcolor\": \"#E5ECF6\", \"radialaxis\": {\"gridcolor\": \"white\", \"linecolor\": \"white\", \"ticks\": \"\"}}, \"scene\": {\"xaxis\": {\"backgroundcolor\": \"#E5ECF6\", \"gridcolor\": \"white\", \"gridwidth\": 2, \"linecolor\": \"white\", \"showbackground\": true, \"ticks\": \"\", \"zerolinecolor\": \"white\"}, \"yaxis\": {\"backgroundcolor\": \"#E5ECF6\", \"gridcolor\": \"white\", \"gridwidth\": 2, \"linecolor\": \"white\", \"showbackground\": true, \"ticks\": \"\", \"zerolinecolor\": \"white\"}, \"zaxis\": {\"backgroundcolor\": \"#E5ECF6\", \"gridcolor\": \"white\", \"gridwidth\": 2, \"linecolor\": \"white\", \"showbackground\": true, \"ticks\": \"\", \"zerolinecolor\": \"white\"}}, \"shapedefaults\": {\"line\": {\"color\": \"#2a3f5f\"}}, \"ternary\": {\"aaxis\": {\"gridcolor\": \"white\", \"linecolor\": \"white\", \"ticks\": \"\"}, \"baxis\": {\"gridcolor\": \"white\", \"linecolor\": \"white\", \"ticks\": \"\"}, \"bgcolor\": \"#E5ECF6\", \"caxis\": {\"gridcolor\": \"white\", \"linecolor\": \"white\", \"ticks\": \"\"}}, \"title\": {\"x\": 0.05}, \"xaxis\": {\"automargin\": true, \"gridcolor\": \"white\", \"linecolor\": \"white\", \"ticks\": \"\", \"title\": {\"standoff\": 15}, \"zerolinecolor\": \"white\", \"zerolinewidth\": 2}, \"yaxis\": {\"automargin\": true, \"gridcolor\": \"white\", \"linecolor\": \"white\", \"ticks\": \"\", \"title\": {\"standoff\": 15}, \"zerolinecolor\": \"white\", \"zerolinewidth\": 2}}}, \"width\": 700, \"xaxis\": {\"anchor\": \"y\", \"domain\": [0.0, 1.0], \"title\": {\"text\": \"Sample Sizes\"}}, \"yaxis\": {\"anchor\": \"x\", \"domain\": [0.0, 1.0], \"title\": {\"text\": \"Difference in Means\"}}},                        {\"responsive\": true}                    ).then(function(){\n                            \nvar gd = document.getElementById('74635966-2f58-4da6-84a9-37f101e29fd1');\nvar x = new MutationObserver(function (mutations, observer) {{\n        var display = window.getComputedStyle(gd).display;\n        if (!display || display === 'none') {{\n            console.log([gd, 'removed!']);\n            Plotly.purge(gd);\n            observer.disconnect();\n        }}\n}});\n\n// Listen for the removal of the full notebook cells\nvar notebookContainer = gd.closest('#notebook-container');\nif (notebookContainer) {{\n    x.observe(notebookContainer, {childList: true});\n}}\n\n// Listen for the clearing of the current output cell\nvar outputEl = gd.closest('.output');\nif (outputEl) {{\n    x.observe(outputEl, {childList: true});\n}}\n\n                        })                };                            </script>        </div>\n</body>\n</html>"
          },
          "metadata": {},
          "output_type": "display_data"
        }
      ],
      "execution_count": 193
    },
    {
      "cell_type": "markdown",
      "source": "\n## 22 - repeat 18 to 21 by replacing 50 with a larger number. n= 300",
      "metadata": {
        "tags": [],
        "cell_id": "00058-71aee4c4-9869-4de7-89b4-6269184774bd",
        "deepnote_cell_type": "markdown"
      }
    },
    {
      "cell_type": "code",
      "source": "sample_sizes = list(range(1,301))\nlen(sample_sizes)",
      "metadata": {
        "tags": [],
        "cell_id": "00059-11a5480f-c751-4536-8d8d-27bbbc10ac08",
        "deepnote_to_be_reexecuted": false,
        "source_hash": "c31ba2af",
        "execution_millis": 26,
        "execution_start": 1618803523616,
        "deepnote_cell_type": "code"
      },
      "outputs": [
        {
          "output_type": "execute_result",
          "execution_count": 203,
          "data": {
            "text/plain": "300"
          },
          "metadata": {}
        }
      ],
      "execution_count": 203
    },
    {
      "cell_type": "code",
      "source": "means_diff = []\nfor i in sample_sizes:\n    all_obs =[]\n    for j in range(i):\n        rand_idx = random.randint(0, 4177)\n        obs = df.loc[rand_idx].at[\"TUITIONFEE_IN\"]\n        all_obs.append(obs)\n    sample_mean = sum(all_obs) / len(all_obs)\n    diff = sample_mean - pop_mean\n    means_diff.append(diff)\n    \nlen(means_diff)",
      "metadata": {
        "tags": [],
        "cell_id": "00059-1de8bcd1-4b01-4bfd-9f98-9b869730ac78",
        "deepnote_to_be_reexecuted": false,
        "source_hash": null,
        "execution_millis": 7614,
        "output_cleared": false,
        "execution_start": 1618803525658,
        "deepnote_cell_type": "code"
      },
      "outputs": [
        {
          "output_type": "execute_result",
          "execution_count": 204,
          "data": {
            "text/plain": "300"
          },
          "metadata": {}
        }
      ],
      "execution_count": 204
    },
    {
      "cell_type": "code",
      "source": "fig = px.scatter(x= sample_sizes, y=means_diff,\n                    labels={\"x\": \"Sample Sizes\", \"y\": \"Difference in Means\"},\n                    width=700, height=600)\n\nfig.update_layout( margin=dict(l=20, r=20, t=20, b=20),\n                    paper_bgcolor=\"darkred\",)\nfig.show()",
      "metadata": {
        "tags": [],
        "cell_id": "00060-5caa53ec-eaa8-45fd-95b0-9a05ef079d33",
        "deepnote_to_be_reexecuted": false,
        "source_hash": "4184c9a4",
        "execution_millis": 78,
        "execution_start": 1618803546228,
        "deepnote_cell_type": "code"
      },
      "outputs": [
        {
          "data": {
            "text/html": "<html>\n<head><meta charset=\"utf-8\" /></head>\n<body>\n    <div>            <script src=\"https://cdnjs.cloudflare.com/ajax/libs/mathjax/2.7.5/MathJax.js?config=TeX-AMS-MML_SVG\"></script><script type=\"text/javascript\">if (window.MathJax) {MathJax.Hub.Config({SVG: {font: \"STIX-Web\"}});}</script>                <script type=\"text/javascript\">window.PlotlyConfig = {MathJaxConfig: 'local'};</script>\n        <script src=\"https://cdn.plot.ly/plotly-latest.min.js\"></script>                <div id=\"40b9cf7e-6f20-4702-bed5-27725efb3742\" class=\"plotly-graph-div\" style=\"height:600px; width:700px;\"></div>            <script type=\"text/javascript\">                                    window.PLOTLYENV=window.PLOTLYENV || {};                                    if (document.getElementById(\"40b9cf7e-6f20-4702-bed5-27725efb3742\")) {                    Plotly.newPlot(                        \"40b9cf7e-6f20-4702-bed5-27725efb3742\",                        [{\"hovertemplate\": \"Sample Sizes=%{x}<br>Difference in Means=%{y}<extra></extra>\", \"legendgroup\": \"\", \"marker\": {\"color\": \"#636efa\", \"symbol\": \"circle\"}, \"mode\": \"markers\", \"name\": \"\", \"orientation\": \"v\", \"showlegend\": false, \"type\": \"scatter\", \"x\": [1, 2, 3, 4, 5, 6, 7, 8, 9, 10, 11, 12, 13, 14, 15, 16, 17, 18, 19, 20, 21, 22, 23, 24, 25, 26, 27, 28, 29, 30, 31, 32, 33, 34, 35, 36, 37, 38, 39, 40, 41, 42, 43, 44, 45, 46, 47, 48, 49, 50, 51, 52, 53, 54, 55, 56, 57, 58, 59, 60, 61, 62, 63, 64, 65, 66, 67, 68, 69, 70, 71, 72, 73, 74, 75, 76, 77, 78, 79, 80, 81, 82, 83, 84, 85, 86, 87, 88, 89, 90, 91, 92, 93, 94, 95, 96, 97, 98, 99, 100, 101, 102, 103, 104, 105, 106, 107, 108, 109, 110, 111, 112, 113, 114, 115, 116, 117, 118, 119, 120, 121, 122, 123, 124, 125, 126, 127, 128, 129, 130, 131, 132, 133, 134, 135, 136, 137, 138, 139, 140, 141, 142, 143, 144, 145, 146, 147, 148, 149, 150, 151, 152, 153, 154, 155, 156, 157, 158, 159, 160, 161, 162, 163, 164, 165, 166, 167, 168, 169, 170, 171, 172, 173, 174, 175, 176, 177, 178, 179, 180, 181, 182, 183, 184, 185, 186, 187, 188, 189, 190, 191, 192, 193, 194, 195, 196, 197, 198, 199, 200, 201, 202, 203, 204, 205, 206, 207, 208, 209, 210, 211, 212, 213, 214, 215, 216, 217, 218, 219, 220, 221, 222, 223, 224, 225, 226, 227, 228, 229, 230, 231, 232, 233, 234, 235, 236, 237, 238, 239, 240, 241, 242, 243, 244, 245, 246, 247, 248, 249, 250, 251, 252, 253, 254, 255, 256, 257, 258, 259, 260, 261, 262, 263, 264, 265, 266, 267, 268, 269, 270, 271, 272, 273, 274, 275, 276, 277, 278, 279, 280, 281, 282, 283, 284, 285, 286, 287, 288, 289, 290, 291, 292, 293, 294, 295, 296, 297, 298, 299, 300], \"xaxis\": \"x\", \"y\": [-6265.077549066538, -1560.5775490665383, -2068.7442157332043, -3263.8275490665383, -4825.077549066538, -1377.0775490665383, 208.49387950489108, -2450.0775490665383, -7190.966437955427, 4603.922450933462, -1838.3502763392662, 6834.672450933462, 859.845527856538, 1070.136736647748, -3406.3442157332047, 580.5474509334617, 251.275392109932, 917.7557842667957, 287.02771409135676, 1115.722450933461, -2508.839453828443, -1832.2593672483563, -2288.1210273274082, 862.5057842667957, -656.0775490665383, 464.5378355488465, -3083.2627342517235, -445.0418347808245, 131.9569336920831, -686.2442157332043, 756.8256767399125, 517.3287009334617, -1350.1078520968422, -1359.9010784783022, 728.8367366477469, -2518.383104622093, 1104.5981266091367, 593.5803456703034, 147.02501503602616, -73.777549066539, -1945.8092563836108, 770.4224509334617, -1184.8217351130497, -413.05482179381033, -2595.655326844316, -366.7297229795822, 3341.1777700823986, -1384.3067157332043, 1101.4326550150945, -1863.0775490665383, -1017.8814706351659, 1159.7878355488465, -1255.2473603872932, 1187.4224509334617, -381.04118543017466, -525.5954062093952, 516.0101702317079, -1017.6637559630908, 1588.3122814419366, -3255.2942157332045, -714.3070572632587, 644.8901928689447, 1182.4780064890165, 18.641200933461732, 2977.553220164231, -2279.168458157448, 1869.8478240677905, 1127.8342156393446, 70.50216107838969, 680.0081652191766, -1766.809943432736, 1564.6030064890165, 1159.5936838101734, -166.50998149896986, 1382.6291176001287, -42.248601698116545, 1958.7146587256702, -109.5903695793586, 2098.137640806879, 3383.9849509334617, -878.7071786961678, -593.8580368714156, -126.98116352436955, -13.077549066538268, 325.8518626981677, 291.6666369799732, 1439.1983130024273, 736.3201782061897, -510.9651895159768, -605.2219935109824, -494.22040620939515, -328.70798384914633, 147.9762143743228, -1149.141378853772, 209.32245093346137, -277.1921323998722, -451.6651779325184, -1139.9755082502124, 1629.9224509334617, -24.67754906653863, -511.1567569873296, 817.3734313256191, -1500.58240343547, -274.22177983576876, -1059.6108823998711, -141.91717170804804, -467.4981098142016, 458.10763611864604, 688.2985977224525, 62.1860872970974, -426.95142294041216, 377.3688795048911, -1219.1129472966259, 1220.9399947931106, 351.1920161508533, -549.905135273435, -915.1630191520089, 704.4139763571911, -257.2624230161182, 522.8307842667946, 37.88939308222143, -397.9791884107999, 1428.743589144844, 99.18051544959053, 140.30645093346175, 137.73197474298468, -86.66810024763981, -423.40567406653827, -635.6744482913437, -861.5390875280773, 1602.2812295594158, -682.5093672483563, -32.070030269545896, -150.73426548444877, 479.5668953779059, 139.72392152169778, -442.83667315413004, -914.7804476172623, 421.7929545305833, 539.3224509334614, 568.8869899405545, 1311.9365354405036, -93.53209452108422, -402.21643795542695, -275.20858354929624, 479.02519065948945, -982.6013585903474, 442.83461309562335, -402.6010389994244, 242.92245093346173, -339.5080126426965, -111.8604438033799, 335.93552282888595, -115.92819841718847, -1020.9033555181504, -307.18652342551286, 569.5785018888764, -845.7231186867921, -870.5869830288029, 1565.3912009334617, -19.027859625544806, 659.0150435260548, 83.22306443039452, -1965.0287685787334, 987.4860872970985, 49.452571415389684, 1600.7967024304671, 700.803403314414, 503.851445016302, -118.90696083124385, -82.46351397881881, -123.43220022932837, 1330.0207168294146, 386.4914164507027, -673.8089776379675, 1663.9849509334617, 987.3800780521051, -603.3696838979995, -654.5524094017346, -1363.2386601776489, -887.1217479615661, -775.9346919236814, 358.3760028460292, -536.2134186317562, 806.2251536361637, -648.1850759482586, -537.4572282109239, -309.9871235346236, -710.7124697014588, -234.54070696127565, 325.05334098581807, -451.8223407332043, -208.6060464758648, 710.4121416551116, 752.5121945232058, 1455.0857162395841, 1257.1254966187407, -334.03714502613366, -682.1579510765878, -547.2675490665388, -1585.72929036007, 1098.4026489532644, 42.53328837188565, -787.548137301832, 155.71757288468143, 1023.9467227781224, -306.8988051051856, -456.1496644511535, -219.1349653344805, -708.5775490665383, -461.50408935089763, 1450.5498094240284, 30.016347647077055, -354.9513808422398, -603.2589444153746, -409.43403054802, 233.66899471226316, -119.77479677296105, 458.0914007051506, 110.6315418425529, 195.11249618232978, -775.4739454629344, 282.1735720096949, -54.309691923681385, -67.41088239987221, 559.2366102254964, -955.4431878330579, 1181.2382404071468, 416.5381714574796, 1036.0746248465057, 184.19517820618967, 350.0690026575994, -364.6311971352079, 1356.3027928138035, -906.9243575771761, -63.95466771060637, 568.4878517773432, -849.6405742766219, 300.859689427185, 381.2141176001278, 104.96809408698937, 155.10426911527975, 118.5561957894297, 122.63146732690439, 92.24081828040107, 696.1541582505342, -246.4621644511535, -240.88803293750607, 610.7738565559521, 93.2784509334615, 1069.2172716505938, -1485.2283427173315, 183.37699638800768, -384.17991127126334, 7.291078384441789, 284.47713843346173, -151.98027280194765, 575.9418307784235, -277.096854085843, -1040.4583182973074, 36.99141645070267, -158.5241139520349, -1285.1003627547507, -99.20254906653827, -505.05113397219793, -7.686571622929478, 156.84754456642077, 518.437376306596, -453.233682895534, -417.7627342517226, 434.6899786087379, -288.08122553712565, -774.2826772716671, -588.7746293585096, 626.7769963880073, -1071.5050852984223, -21.395238597224306, 188.7282063291459, -86.23883938911968, 80.15102236203347, -363.0526380345091, -1310.8718753076737, -454.47684235275665, -510.3909293482284, -506.99684731215166, 221.59727610828668, -201.1472354776888, 532.7800898223504, -975.6242618693068, -379.00513527343537, -686.5552122967783, 599.569711207434, 1312.6801301143496, -39.42108648150497, -728.2470405919612, -1120.9457923097816, 289.6362556472668, 250.03318918849618, 262.3572335421577, 22.03911760012852], \"yaxis\": \"y\"}],                        {\"height\": 600, \"legend\": {\"tracegroupgap\": 0}, \"margin\": {\"b\": 20, \"l\": 20, \"r\": 20, \"t\": 20}, \"paper_bgcolor\": \"darkred\", \"template\": {\"data\": {\"bar\": [{\"error_x\": {\"color\": \"#2a3f5f\"}, \"error_y\": {\"color\": \"#2a3f5f\"}, \"marker\": {\"line\": {\"color\": \"#E5ECF6\", \"width\": 0.5}}, \"type\": \"bar\"}], \"barpolar\": [{\"marker\": {\"line\": {\"color\": \"#E5ECF6\", \"width\": 0.5}}, \"type\": \"barpolar\"}], \"carpet\": [{\"aaxis\": {\"endlinecolor\": \"#2a3f5f\", \"gridcolor\": \"white\", \"linecolor\": \"white\", \"minorgridcolor\": \"white\", \"startlinecolor\": \"#2a3f5f\"}, \"baxis\": {\"endlinecolor\": \"#2a3f5f\", \"gridcolor\": \"white\", \"linecolor\": \"white\", \"minorgridcolor\": \"white\", \"startlinecolor\": \"#2a3f5f\"}, \"type\": \"carpet\"}], \"choropleth\": [{\"colorbar\": {\"outlinewidth\": 0, \"ticks\": \"\"}, \"type\": \"choropleth\"}], \"contour\": [{\"colorbar\": {\"outlinewidth\": 0, \"ticks\": \"\"}, \"colorscale\": [[0.0, \"#0d0887\"], [0.1111111111111111, \"#46039f\"], [0.2222222222222222, \"#7201a8\"], [0.3333333333333333, \"#9c179e\"], [0.4444444444444444, \"#bd3786\"], [0.5555555555555556, \"#d8576b\"], [0.6666666666666666, \"#ed7953\"], [0.7777777777777778, \"#fb9f3a\"], [0.8888888888888888, \"#fdca26\"], [1.0, \"#f0f921\"]], \"type\": \"contour\"}], \"contourcarpet\": [{\"colorbar\": {\"outlinewidth\": 0, \"ticks\": \"\"}, \"type\": \"contourcarpet\"}], \"heatmap\": [{\"colorbar\": {\"outlinewidth\": 0, \"ticks\": \"\"}, \"colorscale\": [[0.0, \"#0d0887\"], [0.1111111111111111, \"#46039f\"], [0.2222222222222222, \"#7201a8\"], [0.3333333333333333, \"#9c179e\"], [0.4444444444444444, \"#bd3786\"], [0.5555555555555556, \"#d8576b\"], [0.6666666666666666, \"#ed7953\"], [0.7777777777777778, \"#fb9f3a\"], [0.8888888888888888, \"#fdca26\"], [1.0, \"#f0f921\"]], \"type\": \"heatmap\"}], \"heatmapgl\": [{\"colorbar\": {\"outlinewidth\": 0, \"ticks\": \"\"}, \"colorscale\": [[0.0, \"#0d0887\"], [0.1111111111111111, \"#46039f\"], [0.2222222222222222, \"#7201a8\"], [0.3333333333333333, \"#9c179e\"], [0.4444444444444444, \"#bd3786\"], [0.5555555555555556, \"#d8576b\"], [0.6666666666666666, \"#ed7953\"], [0.7777777777777778, \"#fb9f3a\"], [0.8888888888888888, \"#fdca26\"], [1.0, \"#f0f921\"]], \"type\": \"heatmapgl\"}], \"histogram\": [{\"marker\": {\"colorbar\": {\"outlinewidth\": 0, \"ticks\": \"\"}}, \"type\": \"histogram\"}], \"histogram2d\": [{\"colorbar\": {\"outlinewidth\": 0, \"ticks\": \"\"}, \"colorscale\": [[0.0, \"#0d0887\"], [0.1111111111111111, \"#46039f\"], [0.2222222222222222, \"#7201a8\"], [0.3333333333333333, \"#9c179e\"], [0.4444444444444444, \"#bd3786\"], [0.5555555555555556, \"#d8576b\"], [0.6666666666666666, \"#ed7953\"], [0.7777777777777778, \"#fb9f3a\"], [0.8888888888888888, \"#fdca26\"], [1.0, \"#f0f921\"]], \"type\": \"histogram2d\"}], \"histogram2dcontour\": [{\"colorbar\": {\"outlinewidth\": 0, \"ticks\": \"\"}, \"colorscale\": [[0.0, \"#0d0887\"], [0.1111111111111111, \"#46039f\"], [0.2222222222222222, \"#7201a8\"], [0.3333333333333333, \"#9c179e\"], [0.4444444444444444, \"#bd3786\"], [0.5555555555555556, \"#d8576b\"], [0.6666666666666666, \"#ed7953\"], [0.7777777777777778, \"#fb9f3a\"], [0.8888888888888888, \"#fdca26\"], [1.0, \"#f0f921\"]], \"type\": \"histogram2dcontour\"}], \"mesh3d\": [{\"colorbar\": {\"outlinewidth\": 0, \"ticks\": \"\"}, \"type\": \"mesh3d\"}], \"parcoords\": [{\"line\": {\"colorbar\": {\"outlinewidth\": 0, \"ticks\": \"\"}}, \"type\": \"parcoords\"}], \"pie\": [{\"automargin\": true, \"type\": \"pie\"}], \"scatter\": [{\"marker\": {\"colorbar\": {\"outlinewidth\": 0, \"ticks\": \"\"}}, \"type\": \"scatter\"}], \"scatter3d\": [{\"line\": {\"colorbar\": {\"outlinewidth\": 0, \"ticks\": \"\"}}, \"marker\": {\"colorbar\": {\"outlinewidth\": 0, \"ticks\": \"\"}}, \"type\": \"scatter3d\"}], \"scattercarpet\": [{\"marker\": {\"colorbar\": {\"outlinewidth\": 0, \"ticks\": \"\"}}, \"type\": \"scattercarpet\"}], \"scattergeo\": [{\"marker\": {\"colorbar\": {\"outlinewidth\": 0, \"ticks\": \"\"}}, \"type\": \"scattergeo\"}], \"scattergl\": [{\"marker\": {\"colorbar\": {\"outlinewidth\": 0, \"ticks\": \"\"}}, \"type\": \"scattergl\"}], \"scattermapbox\": [{\"marker\": {\"colorbar\": {\"outlinewidth\": 0, \"ticks\": \"\"}}, \"type\": \"scattermapbox\"}], \"scatterpolar\": [{\"marker\": {\"colorbar\": {\"outlinewidth\": 0, \"ticks\": \"\"}}, \"type\": \"scatterpolar\"}], \"scatterpolargl\": [{\"marker\": {\"colorbar\": {\"outlinewidth\": 0, \"ticks\": \"\"}}, \"type\": \"scatterpolargl\"}], \"scatterternary\": [{\"marker\": {\"colorbar\": {\"outlinewidth\": 0, \"ticks\": \"\"}}, \"type\": \"scatterternary\"}], \"surface\": [{\"colorbar\": {\"outlinewidth\": 0, \"ticks\": \"\"}, \"colorscale\": [[0.0, \"#0d0887\"], [0.1111111111111111, \"#46039f\"], [0.2222222222222222, \"#7201a8\"], [0.3333333333333333, \"#9c179e\"], [0.4444444444444444, \"#bd3786\"], [0.5555555555555556, \"#d8576b\"], [0.6666666666666666, \"#ed7953\"], [0.7777777777777778, \"#fb9f3a\"], [0.8888888888888888, \"#fdca26\"], [1.0, \"#f0f921\"]], \"type\": \"surface\"}], \"table\": [{\"cells\": {\"fill\": {\"color\": \"#EBF0F8\"}, \"line\": {\"color\": \"white\"}}, \"header\": {\"fill\": {\"color\": \"#C8D4E3\"}, \"line\": {\"color\": \"white\"}}, \"type\": \"table\"}]}, \"layout\": {\"annotationdefaults\": {\"arrowcolor\": \"#2a3f5f\", \"arrowhead\": 0, \"arrowwidth\": 1}, \"autotypenumbers\": \"strict\", \"coloraxis\": {\"colorbar\": {\"outlinewidth\": 0, \"ticks\": \"\"}}, \"colorscale\": {\"diverging\": [[0, \"#8e0152\"], [0.1, \"#c51b7d\"], [0.2, \"#de77ae\"], [0.3, \"#f1b6da\"], [0.4, \"#fde0ef\"], [0.5, \"#f7f7f7\"], [0.6, \"#e6f5d0\"], [0.7, \"#b8e186\"], [0.8, \"#7fbc41\"], [0.9, \"#4d9221\"], [1, \"#276419\"]], \"sequential\": [[0.0, \"#0d0887\"], [0.1111111111111111, \"#46039f\"], [0.2222222222222222, \"#7201a8\"], [0.3333333333333333, \"#9c179e\"], [0.4444444444444444, \"#bd3786\"], [0.5555555555555556, \"#d8576b\"], [0.6666666666666666, \"#ed7953\"], [0.7777777777777778, \"#fb9f3a\"], [0.8888888888888888, \"#fdca26\"], [1.0, \"#f0f921\"]], \"sequentialminus\": [[0.0, \"#0d0887\"], [0.1111111111111111, \"#46039f\"], [0.2222222222222222, \"#7201a8\"], [0.3333333333333333, \"#9c179e\"], [0.4444444444444444, \"#bd3786\"], [0.5555555555555556, \"#d8576b\"], [0.6666666666666666, \"#ed7953\"], [0.7777777777777778, \"#fb9f3a\"], [0.8888888888888888, \"#fdca26\"], [1.0, \"#f0f921\"]]}, \"colorway\": [\"#636efa\", \"#EF553B\", \"#00cc96\", \"#ab63fa\", \"#FFA15A\", \"#19d3f3\", \"#FF6692\", \"#B6E880\", \"#FF97FF\", \"#FECB52\"], \"font\": {\"color\": \"#2a3f5f\"}, \"geo\": {\"bgcolor\": \"white\", \"lakecolor\": \"white\", \"landcolor\": \"#E5ECF6\", \"showlakes\": true, \"showland\": true, \"subunitcolor\": \"white\"}, \"hoverlabel\": {\"align\": \"left\"}, \"hovermode\": \"closest\", \"mapbox\": {\"style\": \"light\"}, \"paper_bgcolor\": \"white\", \"plot_bgcolor\": \"#E5ECF6\", \"polar\": {\"angularaxis\": {\"gridcolor\": \"white\", \"linecolor\": \"white\", \"ticks\": \"\"}, \"bgcolor\": \"#E5ECF6\", \"radialaxis\": {\"gridcolor\": \"white\", \"linecolor\": \"white\", \"ticks\": \"\"}}, \"scene\": {\"xaxis\": {\"backgroundcolor\": \"#E5ECF6\", \"gridcolor\": \"white\", \"gridwidth\": 2, \"linecolor\": \"white\", \"showbackground\": true, \"ticks\": \"\", \"zerolinecolor\": \"white\"}, \"yaxis\": {\"backgroundcolor\": \"#E5ECF6\", \"gridcolor\": \"white\", \"gridwidth\": 2, \"linecolor\": \"white\", \"showbackground\": true, \"ticks\": \"\", \"zerolinecolor\": \"white\"}, \"zaxis\": {\"backgroundcolor\": \"#E5ECF6\", \"gridcolor\": \"white\", \"gridwidth\": 2, \"linecolor\": \"white\", \"showbackground\": true, \"ticks\": \"\", \"zerolinecolor\": \"white\"}}, \"shapedefaults\": {\"line\": {\"color\": \"#2a3f5f\"}}, \"ternary\": {\"aaxis\": {\"gridcolor\": \"white\", \"linecolor\": \"white\", \"ticks\": \"\"}, \"baxis\": {\"gridcolor\": \"white\", \"linecolor\": \"white\", \"ticks\": \"\"}, \"bgcolor\": \"#E5ECF6\", \"caxis\": {\"gridcolor\": \"white\", \"linecolor\": \"white\", \"ticks\": \"\"}}, \"title\": {\"x\": 0.05}, \"xaxis\": {\"automargin\": true, \"gridcolor\": \"white\", \"linecolor\": \"white\", \"ticks\": \"\", \"title\": {\"standoff\": 15}, \"zerolinecolor\": \"white\", \"zerolinewidth\": 2}, \"yaxis\": {\"automargin\": true, \"gridcolor\": \"white\", \"linecolor\": \"white\", \"ticks\": \"\", \"title\": {\"standoff\": 15}, \"zerolinecolor\": \"white\", \"zerolinewidth\": 2}}}, \"width\": 700, \"xaxis\": {\"anchor\": \"y\", \"domain\": [0.0, 1.0], \"title\": {\"text\": \"Sample Sizes\"}}, \"yaxis\": {\"anchor\": \"x\", \"domain\": [0.0, 1.0], \"title\": {\"text\": \"Difference in Means\"}}},                        {\"responsive\": true}                    ).then(function(){\n                            \nvar gd = document.getElementById('40b9cf7e-6f20-4702-bed5-27725efb3742');\nvar x = new MutationObserver(function (mutations, observer) {{\n        var display = window.getComputedStyle(gd).display;\n        if (!display || display === 'none') {{\n            console.log([gd, 'removed!']);\n            Plotly.purge(gd);\n            observer.disconnect();\n        }}\n}});\n\n// Listen for the removal of the full notebook cells\nvar notebookContainer = gd.closest('#notebook-container');\nif (notebookContainer) {{\n    x.observe(notebookContainer, {childList: true});\n}}\n\n// Listen for the clearing of the current output cell\nvar outputEl = gd.closest('.output');\nif (outputEl) {{\n    x.observe(outputEl, {childList: true});\n}}\n\n                        })                };                            </script>        </div>\n</body>\n</html>"
          },
          "metadata": {},
          "output_type": "display_data"
        }
      ],
      "execution_count": 206
    },
    {
      "cell_type": "markdown",
      "source": "\n## 23 - repeat 18 to 21 by replacing 50 with a larger number. n= 1000",
      "metadata": {
        "tags": [],
        "cell_id": "00059-b321a3d5-d39f-4bd8-9c96-fac6d66c1c7c",
        "deepnote_cell_type": "markdown"
      }
    },
    {
      "cell_type": "code",
      "source": "sample_sizes = list(range(1,1001))\nlen(sample_sizes)",
      "metadata": {
        "tags": [],
        "cell_id": "00063-f9ef9bc2-e029-43f0-8bf8-f0fcc4f20119",
        "deepnote_to_be_reexecuted": false,
        "source_hash": "d7b772b1",
        "execution_start": 1618803388679,
        "execution_millis": 8,
        "deepnote_cell_type": "code"
      },
      "outputs": [
        {
          "output_type": "execute_result",
          "execution_count": 199,
          "data": {
            "text/plain": "1000"
          },
          "metadata": {}
        }
      ],
      "execution_count": 199
    },
    {
      "cell_type": "code",
      "source": "means_diff = []\nfor i in sample_sizes:\n    all_obs =[]\n    for j in range(i):\n        rand_idx = random.randint(0, 4177)\n        obs = df.loc[rand_idx].at[\"TUITIONFEE_IN\"]\n        all_obs.append(obs)\n    sample_mean = sum(all_obs) / len(all_obs)\n    diff = sample_mean - pop_mean\n    means_diff.append(diff)\n    \nlen(means_diff)",
      "metadata": {
        "tags": [],
        "cell_id": "00061-4193f4e4-1be5-4785-8bd6-16b73e198df4",
        "deepnote_to_be_reexecuted": false,
        "source_hash": "8c304245",
        "execution_start": 1618803393079,
        "execution_millis": 85286,
        "deepnote_cell_type": "code"
      },
      "outputs": [
        {
          "output_type": "execute_result",
          "execution_count": 200,
          "data": {
            "text/plain": "1000"
          },
          "metadata": {}
        }
      ],
      "execution_count": 200
    },
    {
      "cell_type": "code",
      "source": "fig = px.scatter(x= sample_sizes, y=means_diff,\n                    labels={\"x\": \"Sample Sizes\", \"y\": \"Difference in Means\"},\n                    width=700, height=600)\n\nfig.update_layout( margin=dict(l=20, r=20, t=20, b=20),\n                    paper_bgcolor=\"lavenderblush\",)\nfig.show()",
      "metadata": {
        "tags": [],
        "cell_id": "00063-5a4652aa-0516-45ed-94ef-6f1eb6bebb01",
        "deepnote_to_be_reexecuted": false,
        "source_hash": "7553efaf",
        "execution_start": 1618803481269,
        "execution_millis": 72,
        "deepnote_cell_type": "code"
      },
      "outputs": [
        {
          "data": {
            "text/html": "<html>\n<head><meta charset=\"utf-8\" /></head>\n<body>\n    <div>            <script src=\"https://cdnjs.cloudflare.com/ajax/libs/mathjax/2.7.5/MathJax.js?config=TeX-AMS-MML_SVG\"></script><script type=\"text/javascript\">if (window.MathJax) {MathJax.Hub.Config({SVG: {font: \"STIX-Web\"}});}</script>                <script type=\"text/javascript\">window.PlotlyConfig = {MathJaxConfig: 'local'};</script>\n        <script src=\"https://cdn.plot.ly/plotly-latest.min.js\"></script>                <div id=\"8f05b020-3332-4420-a91c-a63fbdad482d\" class=\"plotly-graph-div\" style=\"height:600px; width:700px;\"></div>            <script type=\"text/javascript\">                                    window.PLOTLYENV=window.PLOTLYENV || {};                                    if (document.getElementById(\"8f05b020-3332-4420-a91c-a63fbdad482d\")) {                    Plotly.newPlot(                        \"8f05b020-3332-4420-a91c-a63fbdad482d\",                        [{\"hovertemplate\": \"Sample Sizes=%{x}<br>Difference in Means=%{y}<extra></extra>\", \"legendgroup\": \"\", \"marker\": {\"color\": \"#636efa\", \"symbol\": \"circle\"}, \"mode\": \"markers\", \"name\": \"\", \"orientation\": \"v\", \"showlegend\": false, \"type\": \"scatter\", \"x\": [1, 2, 3, 4, 5, 6, 7, 8, 9, 10, 11, 12, 13, 14, 15, 16, 17, 18, 19, 20, 21, 22, 23, 24, 25, 26, 27, 28, 29, 30, 31, 32, 33, 34, 35, 36, 37, 38, 39, 40, 41, 42, 43, 44, 45, 46, 47, 48, 49, 50, 51, 52, 53, 54, 55, 56, 57, 58, 59, 60, 61, 62, 63, 64, 65, 66, 67, 68, 69, 70, 71, 72, 73, 74, 75, 76, 77, 78, 79, 80, 81, 82, 83, 84, 85, 86, 87, 88, 89, 90, 91, 92, 93, 94, 95, 96, 97, 98, 99, 100, 101, 102, 103, 104, 105, 106, 107, 108, 109, 110, 111, 112, 113, 114, 115, 116, 117, 118, 119, 120, 121, 122, 123, 124, 125, 126, 127, 128, 129, 130, 131, 132, 133, 134, 135, 136, 137, 138, 139, 140, 141, 142, 143, 144, 145, 146, 147, 148, 149, 150, 151, 152, 153, 154, 155, 156, 157, 158, 159, 160, 161, 162, 163, 164, 165, 166, 167, 168, 169, 170, 171, 172, 173, 174, 175, 176, 177, 178, 179, 180, 181, 182, 183, 184, 185, 186, 187, 188, 189, 190, 191, 192, 193, 194, 195, 196, 197, 198, 199, 200, 201, 202, 203, 204, 205, 206, 207, 208, 209, 210, 211, 212, 213, 214, 215, 216, 217, 218, 219, 220, 221, 222, 223, 224, 225, 226, 227, 228, 229, 230, 231, 232, 233, 234, 235, 236, 237, 238, 239, 240, 241, 242, 243, 244, 245, 246, 247, 248, 249, 250, 251, 252, 253, 254, 255, 256, 257, 258, 259, 260, 261, 262, 263, 264, 265, 266, 267, 268, 269, 270, 271, 272, 273, 274, 275, 276, 277, 278, 279, 280, 281, 282, 283, 284, 285, 286, 287, 288, 289, 290, 291, 292, 293, 294, 295, 296, 297, 298, 299, 300, 301, 302, 303, 304, 305, 306, 307, 308, 309, 310, 311, 312, 313, 314, 315, 316, 317, 318, 319, 320, 321, 322, 323, 324, 325, 326, 327, 328, 329, 330, 331, 332, 333, 334, 335, 336, 337, 338, 339, 340, 341, 342, 343, 344, 345, 346, 347, 348, 349, 350, 351, 352, 353, 354, 355, 356, 357, 358, 359, 360, 361, 362, 363, 364, 365, 366, 367, 368, 369, 370, 371, 372, 373, 374, 375, 376, 377, 378, 379, 380, 381, 382, 383, 384, 385, 386, 387, 388, 389, 390, 391, 392, 393, 394, 395, 396, 397, 398, 399, 400, 401, 402, 403, 404, 405, 406, 407, 408, 409, 410, 411, 412, 413, 414, 415, 416, 417, 418, 419, 420, 421, 422, 423, 424, 425, 426, 427, 428, 429, 430, 431, 432, 433, 434, 435, 436, 437, 438, 439, 440, 441, 442, 443, 444, 445, 446, 447, 448, 449, 450, 451, 452, 453, 454, 455, 456, 457, 458, 459, 460, 461, 462, 463, 464, 465, 466, 467, 468, 469, 470, 471, 472, 473, 474, 475, 476, 477, 478, 479, 480, 481, 482, 483, 484, 485, 486, 487, 488, 489, 490, 491, 492, 493, 494, 495, 496, 497, 498, 499, 500, 501, 502, 503, 504, 505, 506, 507, 508, 509, 510, 511, 512, 513, 514, 515, 516, 517, 518, 519, 520, 521, 522, 523, 524, 525, 526, 527, 528, 529, 530, 531, 532, 533, 534, 535, 536, 537, 538, 539, 540, 541, 542, 543, 544, 545, 546, 547, 548, 549, 550, 551, 552, 553, 554, 555, 556, 557, 558, 559, 560, 561, 562, 563, 564, 565, 566, 567, 568, 569, 570, 571, 572, 573, 574, 575, 576, 577, 578, 579, 580, 581, 582, 583, 584, 585, 586, 587, 588, 589, 590, 591, 592, 593, 594, 595, 596, 597, 598, 599, 600, 601, 602, 603, 604, 605, 606, 607, 608, 609, 610, 611, 612, 613, 614, 615, 616, 617, 618, 619, 620, 621, 622, 623, 624, 625, 626, 627, 628, 629, 630, 631, 632, 633, 634, 635, 636, 637, 638, 639, 640, 641, 642, 643, 644, 645, 646, 647, 648, 649, 650, 651, 652, 653, 654, 655, 656, 657, 658, 659, 660, 661, 662, 663, 664, 665, 666, 667, 668, 669, 670, 671, 672, 673, 674, 675, 676, 677, 678, 679, 680, 681, 682, 683, 684, 685, 686, 687, 688, 689, 690, 691, 692, 693, 694, 695, 696, 697, 698, 699, 700, 701, 702, 703, 704, 705, 706, 707, 708, 709, 710, 711, 712, 713, 714, 715, 716, 717, 718, 719, 720, 721, 722, 723, 724, 725, 726, 727, 728, 729, 730, 731, 732, 733, 734, 735, 736, 737, 738, 739, 740, 741, 742, 743, 744, 745, 746, 747, 748, 749, 750, 751, 752, 753, 754, 755, 756, 757, 758, 759, 760, 761, 762, 763, 764, 765, 766, 767, 768, 769, 770, 771, 772, 773, 774, 775, 776, 777, 778, 779, 780, 781, 782, 783, 784, 785, 786, 787, 788, 789, 790, 791, 792, 793, 794, 795, 796, 797, 798, 799, 800, 801, 802, 803, 804, 805, 806, 807, 808, 809, 810, 811, 812, 813, 814, 815, 816, 817, 818, 819, 820, 821, 822, 823, 824, 825, 826, 827, 828, 829, 830, 831, 832, 833, 834, 835, 836, 837, 838, 839, 840, 841, 842, 843, 844, 845, 846, 847, 848, 849, 850, 851, 852, 853, 854, 855, 856, 857, 858, 859, 860, 861, 862, 863, 864, 865, 866, 867, 868, 869, 870, 871, 872, 873, 874, 875, 876, 877, 878, 879, 880, 881, 882, 883, 884, 885, 886, 887, 888, 889, 890, 891, 892, 893, 894, 895, 896, 897, 898, 899, 900, 901, 902, 903, 904, 905, 906, 907, 908, 909, 910, 911, 912, 913, 914, 915, 916, 917, 918, 919, 920, 921, 922, 923, 924, 925, 926, 927, 928, 929, 930, 931, 932, 933, 934, 935, 936, 937, 938, 939, 940, 941, 942, 943, 944, 945, 946, 947, 948, 949, 950, 951, 952, 953, 954, 955, 956, 957, 958, 959, 960, 961, 962, 963, 964, 965, 966, 967, 968, 969, 970, 971, 972, 973, 974, 975, 976, 977, 978, 979, 980, 981, 982, 983, 984, 985, 986, 987, 988, 989, 990, 991, 992, 993, 994, 995, 996, 997, 998, 999, 1000], \"xaxis\": \"x\", \"y\": [4867.922450933462, 9655.422450933462, -876.0775490665383, -1319.5775490665383, -2697.0775490665383, -2937.9108823998713, -2532.6489776379676, 3863.2974509334617, -2185.5219935109835, 2056.8224509334614, 434.01336002437165, -2850.3275490665383, 935.2301432411532, 1508.4224509334617, 3664.389117600129, 1248.2974509334617, 1054.9224509334617, 819.2002287112391, 450.7119246176717, -220.12754906653754, 1689.2081652191755, -1628.3957308847203, -493.68624471871226, -654.9525490665383, -1126.9975490665383, -312.9621644511535, 123.95948797049823, 1683.386736647748, 580.7845198989799, 2482.1224509334625, 308.95470899797874, -1432.1087990665383, -1371.7442157332043, -327.8422549488914, 2394.0938795048896, -1861.6053268443156, -1459.3748463638349, -829.0775490665383, 779.4865534975652, 220.82245093346137, -248.37023199336727, 688.5653080763186, 1480.9922183753224, 979.7179054789158, 1130.033562044573, 1166.1615813682438, 1051.7522381675044, -536.0150490665383, -854.9755082502124, -1134.9575490665375, 1233.1773528942467, -616.5775490665383, -624.4360396325756, -1259.392363881354, -1059.004821793811, 2205.886736647748, -723.2354438033799, -88.78444561826291, 501.6682136453255, -170.19421573320506, -278.01197529604724, 829.7289025463651, -978.9505649395542, -1339.7650490665383, 930.6609124719234, -316.42603391502234, -568.6596386187775, 403.79009799228515, -306.2369693563942, 2097.69387950489, 1414.8520283982507, -317.383104622093, -463.625494272017, 394.4089374199484, -44.11754906653914, 1716.4356088281984, -247.01261400160365, -64.20575419474335, -644.7610933703363, -613.340049066539, -673.7812527702426, -691.3702319933673, -20.65586231955058, -589.3156443046337, -2360.5010784783026, 586.841055584624, -604.8246755033197, -1512.3957308847203, -1272.5719310890108, -240.14421573320578, -19.165461154450895, 136.17245093346173, 201.38481652486007, -817.1839320452618, 51.006661459778115, 140.64120093346173, 93.6028633045953, -769.7408143726607, 814.0133600243717, 1164.3324509334616, 114.97195588395698, 793.6773528942467, -96.53385974615048, 938.2301432411532, 275.0748318858423, 292.98848866931075, 205.64207710168557, 698.283562044573, -1173.1142463142442, -215.3502763392662, -1023.2847562737461, 38.4581652191755, 585.4888226148778, -16.217899943731027, -1800.6427664578423, -732.0861697561941, -1116.291224280214, 132.16821364532552, 592.7795937906048, 1199.722450933461, 1100.5174922557762, -287.4136146403089, 299.2964346732988, -417.1178716471841, -93.78154906653799, -396.57754906653827, 1557.9933170751938, 655.9302634334617, 53.99997031330713, -489.7160106049996, -446.5050299825689, -996.7366399756283, -924.0625114725535, 724.123943470775, -1389.8182898072791, 612.9371568158149, 636.6158815903964, 369.8934654262157, 1493.9440336672742, 367.1153080763197, 412.53238001147656, 427.5844227644484, 372.3280453390562, 347.6238398223504, 808.591416450703, -249.5433024911963, -1224.2068007672187, 130.98326174427166, 582.2781556314476, -716.2308823998719, 1190.7370204698855, -233.32097011916994, -221.55467324954407, -452.1230036119923, 90.79341867539733, -645.7378054767942, -907.115765627048, -19.55223261084211, -410.9266056703127, 106.35995093346173, 852.8913950328406, -753.1269317825881, -910.0530091892379, 1033.7761094700472, -414.1199733089634, -156.5715249701534, -527.1494053539627, -939.7263585903474, 494.0407941287285, 37.98715681581416, -309.4108823998722, -981.3217351130497, -580.5457571590232, 994.261531393231, 967.1110223620326, 682.1440418425518, 956.6795130803548, 154.93368688851842, -132.0663758821811, -218.62199351098207, -18.884178900792904, -166.12150511049367, 477.0863853596911, -662.9851577621903, -68.01268420167253, 495.4762143743228, 1140.1096167088635, 402.87989774197194, 135.573244584255, 1188.1698193545144, -385.37597838590955, 839.2662009334617, -595.1656319680933, 677.5667808303697, -365.1442157332058, 1038.7540835865238, 388.3285423040197, 113.50325901426913, -104.80619228261821, -396.6025490665379, 1039.2756847643068, 66.2194806364314, 143.99634255907768, 465.4567646589512, 61.361475323705235, 93.33021792375257, 448.9417746049585, 806.9272586257703, 129.4057045219779, 671.2653080763193, -245.53726470634865, 607.4318848957264, -98.42027207123283, 226.1794602792561, 704.0573346543915, 289.88541389642523, 302.92705922839195, -841.1325949380971, -343.20083673777117, 74.32699638800659, -135.0232504240048, 1289.1296581406696, -641.1179078109326, 679.042986647748, -120.35310462209418, -744.9271065886624, -14.033496203102914, 182.32595970539114, -578.920343826363, 364.79201615085367, -80.97365296264252, -164.7715145837792, 582.162794281101, -1108.9151559041456, -131.88605970483695, 333.0029594080388, 783.8929150684835, -755.7078011673784, -19.68842772762582, -630.9733823998722, -55.26842043583201, -1056.5775490665383, -688.3244626467858, 328.45113945805133, 103.68163460693177, 111.77204442939728, 68.20180316018195, 37.660354159268536, 423.7698404916955, 250.32645093346218, -184.80264866813195, 300.28753029854124, -300.4530431376843, -116.07754906653827, 146.00480387463904, -230.43301781653827, -631.3849420626466, 291.4340788404388, -137.40573439472428, 113.93014324115393, -69.47218508186415, 881.3919165823172, -459.3475110437248, -705.1381551271443, -224.15302076465196, -116.55123327706497, -145.95769887927236, -596.2230714545985, 15.145499260599536, -411.9997712887598, -307.2915712067588, -70.42313730183196, -72.66362965261942, 319.82026115243934, 719.9842691152808, -232.6608823998722, -10.388018380617723, -287.217836836322, -493.1994128658207, -307.92397763796725, 54.08971071993801, 73.4047204370072, 379.14153220554726, -194.20783075667896, -68.4249174875913, -49.385241374229736, 629.7342976233576, 229.60300648901648, 1181.358437092631, 307.62245093346246, -516.91260061293, -281.8891929021538, -625.9342043566412, -379.0673449849055, -462.979243981792, 29.030559041570086, 386.09080110181276, -407.17150879808105, -49.23473970198938, 354.1391176001289, -31.53269856819861, -206.8954298612407, 162.17657634600255, 389.23495093346173, -281.1365654599813, 33.25905224065173, 88.98759751326543, 743.7828405438522, -379.1422739856316, -902.9581942278292, 24.404766046001896, 5.900015036026161, -39.751670472289334, 986.7504764111691, 217.8875302985416, -102.43514400324784, 737.4524193877205, -47.04295787157025, 9.486714256345294, 760.5474509334617, 383.66388395526883, 739.6615813682438, 65.68096486535069, 98.8915867359301, -231.4775490665379, 59.410180994811526, 146.47290964905733, 305.1846460554134, -187.69457034313382, -512.641185430175, 363.26686180959405, -934.1046575002729, 82.12365213466364, 547.4613730891506, 598.6328986946555, 227.12483188584338, 132.59010671981196, -213.68701652215896, 471.5271706974727, 590.131274462874, -1058.7344405621388, -479.9898297682921, 96.24898154570656, 311.85268349160106, -222.01667950132105, -35.21338721682696, -696.9968574238865, 289.8247497840366, -94.14918230435978, -752.2975490665376, 726.0193170303282, -1030.0292536119923, 261.8289665141983, 470.0975921764002, 375.71400022923626, 262.4702037424504, 2.97567222197722, -374.75352672016925, 113.93359299474287, 252.83633982235006, 320.54848971462525, -219.30959326543416, 183.75440685632748, 218.27409928511042, 389.7443687416817, 238.38966404821622, 358.2276280451788, 65.91701615085367, 222.63518806083266, 249.37650498751646, 739.3644994509814, 329.4842788904516, 181.43719624177356, -526.860971526432, -745.3922157332054, -196.66797459845293, -583.8892201540712, 832.0970541080642, -353.681770702422, -5.940706961275282, -112.67859893530476, -545.8576537785793, 522.2279339621819, -331.5489032332043, -477.9191075080962, 44.096026062996316, -66.4625619864346, -296.2270336026213, -230.0338472670519, -456.8801131691016, -285.15427540924975, 404.2209203212169, -751.5253862166646, -153.5724729244066, -395.0370427374237, -585.9134076523969, -103.97175561565746, -304.8916194182966, 182.99262637205902, 349.17745093346093, 195.11197711800014, 637.1811574011226, 296.0738156977295, 33.51155984435354, -18.01582067147683, 167.9741750713929, -264.38713137612103, 0.5327450511085772, -329.25114319856766, -865.3555978470267, 164.74726845171062, 338.45885870045277, -409.15018829172004, 152.96109827645705, 668.6887159937032, -253.356395220384, 829.8145372643976, -263.3646304062513, 93.53820272343728, 539.2605461715575, 415.6564176793054, 141.50538932208656, 318.39053603984394, 128.32811131082053, -38.9034314194796, -84.99538944212509, -93.72626101033165, 270.0112359801915, 627.7406327516437, 221.75733465439225, 483.8319636944834, 561.857636118646, 542.1303031274565, 865.2888103804671, 818.0626808185189, 332.3192399242871, -476.65191977592076, -330.8012933587761, 183.54431881501114, -389.6570945210842, 242.33968449355234, -357.41465313893605, 33.41003558357443, 70.44497345598393, -50.95395356092013, -112.57979121900462, -499.0462291560234, -833.0909419236814, -334.5207561934876, -420.17754906653863, 702.8980606895584, 182.71448633169166, -442.45282500472786, 362.38280335636955, 126.02354983456098, 536.6856088281984, 653.762713515518, 843.5250710207984, -583.8073965610911, -216.91015776218956, -902.2077009103559, -60.35893434792342, 132.4472889464214, -56.76073872171037, -4.488301754710847, 67.11343805792603, 212.43851089063537, 103.16604067705157, 399.06317588015736, 4.171387103673624, 174.61459530713546, -80.34237957501318, 751.5165312717272, 176.31274629211111, 986.6950825124095, 117.84892152169778, -427.32702495752346, 472.3366768748838, 336.5738079271978, 96.87453426679531, 225.7540517650632, 464.02826006209216, -712.0527043460406, 1106.4823682888327, 159.46471897469928, -384.61870132991316, 456.2468862517362, 96.53720503182194, -79.44155724649681, 196.26530807631934, 92.19129003733178, 746.9854590635423, 254.46403308356275, 153.2908719860934, 207.16487517588575, -478.8134361633129, 64.37717930368308, 537.9144188049486, -141.56051499840214, -703.8315490665391, 275.335624586156, -143.477947472913, 128.48109904479315, 811.7597525207639, 155.06304499286853, -241.78110637879035, 357.7370465942113, 47.682293453146485, 282.69848236764665, 283.38323524718726, 4.992901031309884, -120.31192406653827, -11.260784933983814, 420.6072758361861, -453.9862869306162, -197.7868513921203, -342.47793591373375, -124.84974983873872, 226.08044707989757, 365.9128355488465, 144.7842551561098, -1019.148430292591, 295.2455866887194, -610.1405261657746, -346.1480252570145, -350.7543551501876, 254.77444334332904, 67.85237517588575, 317.0774603852569, 458.8658471598774, 322.1390234381706, 485.6254584522594, -105.68355281888398, 948.3531625439482, -149.73175467401416, 45.304913620029765, 104.64684571930957, -842.9214152375425, 732.6868294121268, 458.34282130383144, -566.7670130221759, 144.82835499250177, 315.4160052612697, -99.28159318418511, 71.99034084171944, -106.46216445115351, 187.63543082377328, 832.9425239261618, -71.42363285524516, 11.17517820618923, 234.20738741259083, 139.39708861462168, -80.69780223109592, 253.7654112222699, 473.2683968794081, -342.870714534165, 51.34794464979859, -67.21554189808012, -688.8932914636753, 8.554593790604486, -77.0062478187665, -274.2145597426952, 692.1071756226265, -527.3470526126384, 440.96315889806283, -289.66412150470023, 54.16583717684807, -65.16381667217138, -12.840290718559118, -192.60561924197646, -70.19313575655542, 208.70391946492964, -678.9152454016166, -625.5270264184546, -483.36624471871255, -355.99595184431564, -112.37217644955308, -295.4823933571952, 204.15215732378965, -145.99996285964153, 873.9121239110864, -186.1428411627585, 584.5862588236851, -675.0775490665383, 724.4301432411539, -178.8898357559574, -310.1320635469474, 133.98027406271285, -382.92814329404246, 515.1800780521062, 46.09503976594897, 143.6167076902184, 668.8044070886044, -152.52199351098352, 132.0367366477476, 129.65567240997188, -619.1964770397371, 267.45589574951555, 242.94415377152473, 318.43578426679596, 492.16704327955085, -242.08751584394668, -52.01784757400128, 322.9952986155804, 481.2298889499907, 245.1749261809873, -448.29171710607625, -1144.1663648560116, 84.98813237845388, 296.23064765477284, 417.64094520514664, 132.60382348248095, -18.071023781056283, -174.777874799438, -23.740963700684006, -217.9087178977079, -649.3660417731826, -118.98693417980758, 799.3134040837049, -260.9388393891186, -431.4092720939134, -273.17561980608843, -421.0181590183838, 461.0859124719227, 95.87125093346185, 91.12213144464295, 383.9001223848172, 35.79824711180481, -560.277867031562, -87.8807236697121, 172.78615933282708, -472.1503338766652, 307.76921238685827, 215.5580976211586, 11.142923374407474, 195.63785973849372, -704.6207201811376, 276.2171217798568, -14.07441917608412, 102.378700933461, -762.5954897841675, -1.3158668235482764, 190.24748981370976, -45.57289068144564, -24.032587826228337, -512.5574252275292, -14.252201307650466, -91.17785770851333, -130.29634721753973, 99.9839893949993, -117.30642771477142, -95.58828526285652, 79.30683071906606, -22.18764080965775, 206.1514585670502, -307.9815124811721, 401.13249659556277, -61.94533022155338, -37.86814087230414, -92.25785209684182, 276.61534049473266, 213.02365939267656, 274.9782578716222, 41.96763165635275, 3.853278001130093, -295.7186902076792, -343.04906330941594, -221.0356328988728, 422.6145286614137, -612.3193401113149, 188.5916014550712, -182.89897763796762, 33.32661140894379, -158.4929793336014, -186.8079194369093, 114.86771720565048, 517.8781377872292, 10.083217895113194, -237.52526629776003, -69.17460789006691, 432.50835401716176, 472.51336002437165, 65.34704829803013, -132.01906953437538, -338.42207461398357, 213.79417105007997, -198.77478341879396, 156.24803232881095, -147.38669275303982, -100.88189689262435, -279.21213662080663, 2.2620463091843703, -166.7456587346478, 583.5535748527709, -236.37395194423698, 409.29601415185243, 178.25530602671824, 436.5743133976448, 522.7636526501992, -311.010406209396, -146.3956660422864, -87.31116730015674, 82.88973400600844, 675.8244395698257, 8.13521689090885, -210.58888051129725, -102.13554057997499, -670.8713343772724, -116.28206246569243, 134.23653544050467, -687.2181960426278, -273.8626614260884, -225.93589408757543, 461.7739915497077, 212.95741596842709, -508.6585546531296, -266.6619284249755, 8.017158454353194, -218.0399969107657, -21.944215733205056, 322.91135523304547, 273.06372517168893, -188.3583236170216, -20.230863983664676, 91.42865783001434, 366.4376024486137, 136.29108917280064, 124.51173664774797, 98.49721087859143, -343.5994668747571, -508.3538828558685, -82.92454360205738, 256.7969393372823, 347.5123691895933, 790.8571448110124, -253.24602732740823, -181.5985802741361, 280.80049971394874, 318.6139258996318, -111.01808960707967, 348.74296375397535, -346.42256254362655, -22.734345836390276, 447.3149240517414, -351.3030524222431, -147.45824611747594, -131.76429605449084, -61.62032981520133, -308.33389085559065, 476.7104509334622, 478.7639955406521, -74.55627247079428, 409.54130883518883, 238.82032891754716, -296.8987411195176, -188.6648506538404, 117.08493442091276, 390.64408681736677, 634.8697500111957, -84.00649643495854, -58.8751837577347, 221.8870178625948, 565.7599345507624, 206.17375983398597, -69.25140527568874, -489.77206603781815, -54.07754906653827, -30.127028233204328, 702.4517097110947, 195.6276457386557, 45.711037185083114, -126.53739362612396, -586.9533576047015, -816.0969289115001, 647.1082573850745, -392.64971401499133, 62.545359556370386, -443.16366731846574, -475.7745965633294, -16.989087528076197, 152.0876237887751, 84.56311589509824, 115.77047136768851, -605.49974294409, -538.9132178563468, 160.70489368155359, 66.43198079368995, -128.42145769598028, 319.182273493665, 702.4528306802968, 110.03623095874536, -715.9992662382556, 184.4016438716717, -66.3344760186792, -464.24736038729316, 104.66868208924097, 42.283806015017035, 209.1718243670457, 588.0914121349633, -364.14629906653863, -65.11625068950889, -160.8331600391066, -659.411297509876, -347.75167841977236, -244.72226956343184, -616.9733307042552, 191.80720929777453, -21.317648076439582, -266.1640756425586, 224.54837685938764, -599.7520250221478, 228.9470814753331, -42.87459703701825, 122.01213152314267, -468.1536226861699, 576.1467156393446, 14.506294262715528, 227.93589836622414, -180.98108997007876, 379.2565972749253, 288.32561780313335, 70.70103974124686, -182.46880058537135, 6.386043166470699, 295.1418448728564, -86.2676217057633, 188.4109636299545, -249.19952974286753, -409.91832108101335, 295.54534249972676, 101.38093468797524, 59.345527856537956, -85.64897763796762, 357.20902167686654, 135.34760063406065, 98.911685383222, 215.1924628808938, -391.2350669662992, 555.0440242350105, -71.16445382844358, 36.22685045783692, -280.09061319955435, -470.68490375218425, 114.26368316095068, -164.5071348653546, -212.02553961027297, -113.788292868192, -78.80160567031271, -554.5227787485164, 432.4330391687563, 29.609877490453073, -560.2465631510458, -312.2428480114395, 180.7503197859205, 493.85812344808073, -247.73409112261288, 6.58989550755723, 244.93177494278643, 496.72454639329953, -390.45545604328254, -760.7709288574788, 87.19971311443624, 85.55049264841, 193.91087685938692, 557.6380578698772, 346.4674855754947, -229.71768747484202, 142.39710531134187, -68.4699541298287, -299.2729513653885, 170.33117653621775, 180.63804726373746, -5.04089385462612, -9.318967830840847, 450.5864509334624, -97.14033445466703, -235.3534897734935, 533.0853210929145, -378.99791311659465, -447.6695945210831, 750.7590003091718, 102.74671397201018, -238.53621271319753, 200.87493962124427, 477.6015469786598, -12.320212723423538, 224.24601350392368, 116.476504987515, 249.22953754763512, -215.34945917889854, -370.6690193246759, 532.3181908437764, 285.3804576523871, -91.16927166161622, -467.39263286542155, -169.24942406653827, -857.7208043619667, 34.955858505843935, -262.81281046809636, 335.2246731556843, 83.97350531747907, 119.17078796228634, 132.60794373523277, -452.4226818099014, -330.14495238145537, -275.6702642983255, 359.73832744944775, 243.63941128588522, -112.37347865949778, 460.0828904939008, 229.51081536814854, 252.65819654749612, -275.9932117171411, -224.63006547791701, -432.63601901189395, 127.48467800769686, 255.16672574262157, 96.32985834086867, -234.1297797520656, -262.2895055882782, -466.9852580784809, -625.9918657693579, -136.09055014996193, 89.58370634471794, -205.74781933680788, 377.39869283410917, -52.42598488099429, 90.84055438173709, 373.8148083069809, 45.996644481849216, 223.42083976267713, 372.1971290450492, 531.7563201724752, 171.26934600840832, -358.0989394408698, 371.5538611898719, 193.0046280946135, 423.0972910187502, -31.979572495718458, 285.57032327388697, 352.98515018957187, 336.1400730141413, 243.49721233325, 174.12478144193665, -213.78336917235902, 50.39602387215018, 225.32266212670402, 106.00894882375724, -251.08071028887753, 27.550871986093625, -36.75052488147048, -152.07439780603454, -471.66831506863673, 211.28408615358785, 6.908838368017314, -89.76269551005316, -124.32206317312193, 105.77109393972569, -12.08901934808091, 94.13599260012779, -148.6353014078486, 52.22182723283731, 250.071983643742, 40.71601939819266, -621.7324713463313, 340.54356894588454, 269.2016649975776, 433.8015831648663, -208.92997424713758, -232.2435284479816, 122.89773414664342, -102.87898939575643, -19.315986887710096, -271.0077338714673, 257.9706560616669, 68.50749191706745, -294.68860331423457, -42.169573606415724, 93.10937636757808, -265.50101845429344, 677.7552745827998, 701.2371148845814, -71.61976676745326, -151.95458158686415, -381.8359247010558, 59.64658886449615, 208.3419038209995, 331.28479911159957, 277.3430778293168, 247.46588527689528, -367.10580335513623, 164.75813641733293, 124.47532102409605, 159.56933222118823, -209.37202142834758, 95.43148707803994, 132.17621221731315, -190.6256452589223, 549.6471756581868, 73.07645093346218], \"yaxis\": \"y\"}],                        {\"height\": 600, \"legend\": {\"tracegroupgap\": 0}, \"margin\": {\"b\": 20, \"l\": 20, \"r\": 20, \"t\": 20}, \"paper_bgcolor\": \"lavenderblush\", \"template\": {\"data\": {\"bar\": [{\"error_x\": {\"color\": \"#2a3f5f\"}, \"error_y\": {\"color\": \"#2a3f5f\"}, \"marker\": {\"line\": {\"color\": \"#E5ECF6\", \"width\": 0.5}}, \"type\": \"bar\"}], \"barpolar\": [{\"marker\": {\"line\": {\"color\": \"#E5ECF6\", \"width\": 0.5}}, \"type\": \"barpolar\"}], \"carpet\": [{\"aaxis\": {\"endlinecolor\": \"#2a3f5f\", \"gridcolor\": \"white\", \"linecolor\": \"white\", \"minorgridcolor\": \"white\", \"startlinecolor\": \"#2a3f5f\"}, \"baxis\": {\"endlinecolor\": \"#2a3f5f\", \"gridcolor\": \"white\", \"linecolor\": \"white\", \"minorgridcolor\": \"white\", \"startlinecolor\": \"#2a3f5f\"}, \"type\": \"carpet\"}], \"choropleth\": [{\"colorbar\": {\"outlinewidth\": 0, \"ticks\": \"\"}, \"type\": \"choropleth\"}], \"contour\": [{\"colorbar\": {\"outlinewidth\": 0, \"ticks\": \"\"}, \"colorscale\": [[0.0, \"#0d0887\"], [0.1111111111111111, \"#46039f\"], [0.2222222222222222, \"#7201a8\"], [0.3333333333333333, \"#9c179e\"], [0.4444444444444444, \"#bd3786\"], [0.5555555555555556, \"#d8576b\"], [0.6666666666666666, \"#ed7953\"], [0.7777777777777778, \"#fb9f3a\"], [0.8888888888888888, \"#fdca26\"], [1.0, \"#f0f921\"]], \"type\": \"contour\"}], \"contourcarpet\": [{\"colorbar\": {\"outlinewidth\": 0, \"ticks\": \"\"}, \"type\": \"contourcarpet\"}], \"heatmap\": [{\"colorbar\": {\"outlinewidth\": 0, \"ticks\": \"\"}, \"colorscale\": [[0.0, \"#0d0887\"], [0.1111111111111111, \"#46039f\"], [0.2222222222222222, \"#7201a8\"], [0.3333333333333333, \"#9c179e\"], [0.4444444444444444, \"#bd3786\"], [0.5555555555555556, \"#d8576b\"], [0.6666666666666666, \"#ed7953\"], [0.7777777777777778, \"#fb9f3a\"], [0.8888888888888888, \"#fdca26\"], [1.0, \"#f0f921\"]], \"type\": \"heatmap\"}], \"heatmapgl\": [{\"colorbar\": {\"outlinewidth\": 0, \"ticks\": \"\"}, \"colorscale\": [[0.0, \"#0d0887\"], [0.1111111111111111, \"#46039f\"], [0.2222222222222222, \"#7201a8\"], [0.3333333333333333, \"#9c179e\"], [0.4444444444444444, \"#bd3786\"], [0.5555555555555556, \"#d8576b\"], [0.6666666666666666, \"#ed7953\"], [0.7777777777777778, \"#fb9f3a\"], [0.8888888888888888, \"#fdca26\"], [1.0, \"#f0f921\"]], \"type\": \"heatmapgl\"}], \"histogram\": [{\"marker\": {\"colorbar\": {\"outlinewidth\": 0, \"ticks\": \"\"}}, \"type\": \"histogram\"}], \"histogram2d\": [{\"colorbar\": {\"outlinewidth\": 0, \"ticks\": \"\"}, \"colorscale\": [[0.0, \"#0d0887\"], [0.1111111111111111, \"#46039f\"], [0.2222222222222222, \"#7201a8\"], [0.3333333333333333, \"#9c179e\"], [0.4444444444444444, \"#bd3786\"], [0.5555555555555556, \"#d8576b\"], [0.6666666666666666, \"#ed7953\"], [0.7777777777777778, \"#fb9f3a\"], [0.8888888888888888, \"#fdca26\"], [1.0, \"#f0f921\"]], \"type\": \"histogram2d\"}], \"histogram2dcontour\": [{\"colorbar\": {\"outlinewidth\": 0, \"ticks\": \"\"}, \"colorscale\": [[0.0, \"#0d0887\"], [0.1111111111111111, \"#46039f\"], [0.2222222222222222, \"#7201a8\"], [0.3333333333333333, \"#9c179e\"], [0.4444444444444444, \"#bd3786\"], [0.5555555555555556, \"#d8576b\"], [0.6666666666666666, \"#ed7953\"], [0.7777777777777778, \"#fb9f3a\"], [0.8888888888888888, \"#fdca26\"], [1.0, \"#f0f921\"]], \"type\": \"histogram2dcontour\"}], \"mesh3d\": [{\"colorbar\": {\"outlinewidth\": 0, \"ticks\": \"\"}, \"type\": \"mesh3d\"}], \"parcoords\": [{\"line\": {\"colorbar\": {\"outlinewidth\": 0, \"ticks\": \"\"}}, \"type\": \"parcoords\"}], \"pie\": [{\"automargin\": true, \"type\": \"pie\"}], \"scatter\": [{\"marker\": {\"colorbar\": {\"outlinewidth\": 0, \"ticks\": \"\"}}, \"type\": \"scatter\"}], \"scatter3d\": [{\"line\": {\"colorbar\": {\"outlinewidth\": 0, \"ticks\": \"\"}}, \"marker\": {\"colorbar\": {\"outlinewidth\": 0, \"ticks\": \"\"}}, \"type\": \"scatter3d\"}], \"scattercarpet\": [{\"marker\": {\"colorbar\": {\"outlinewidth\": 0, \"ticks\": \"\"}}, \"type\": \"scattercarpet\"}], \"scattergeo\": [{\"marker\": {\"colorbar\": {\"outlinewidth\": 0, \"ticks\": \"\"}}, \"type\": \"scattergeo\"}], \"scattergl\": [{\"marker\": {\"colorbar\": {\"outlinewidth\": 0, \"ticks\": \"\"}}, \"type\": \"scattergl\"}], \"scattermapbox\": [{\"marker\": {\"colorbar\": {\"outlinewidth\": 0, \"ticks\": \"\"}}, \"type\": \"scattermapbox\"}], \"scatterpolar\": [{\"marker\": {\"colorbar\": {\"outlinewidth\": 0, \"ticks\": \"\"}}, \"type\": \"scatterpolar\"}], \"scatterpolargl\": [{\"marker\": {\"colorbar\": {\"outlinewidth\": 0, \"ticks\": \"\"}}, \"type\": \"scatterpolargl\"}], \"scatterternary\": [{\"marker\": {\"colorbar\": {\"outlinewidth\": 0, \"ticks\": \"\"}}, \"type\": \"scatterternary\"}], \"surface\": [{\"colorbar\": {\"outlinewidth\": 0, \"ticks\": \"\"}, \"colorscale\": [[0.0, \"#0d0887\"], [0.1111111111111111, \"#46039f\"], [0.2222222222222222, \"#7201a8\"], [0.3333333333333333, \"#9c179e\"], [0.4444444444444444, \"#bd3786\"], [0.5555555555555556, \"#d8576b\"], [0.6666666666666666, \"#ed7953\"], [0.7777777777777778, \"#fb9f3a\"], [0.8888888888888888, \"#fdca26\"], [1.0, \"#f0f921\"]], \"type\": \"surface\"}], \"table\": [{\"cells\": {\"fill\": {\"color\": \"#EBF0F8\"}, \"line\": {\"color\": \"white\"}}, \"header\": {\"fill\": {\"color\": \"#C8D4E3\"}, \"line\": {\"color\": \"white\"}}, \"type\": \"table\"}]}, \"layout\": {\"annotationdefaults\": {\"arrowcolor\": \"#2a3f5f\", \"arrowhead\": 0, \"arrowwidth\": 1}, \"autotypenumbers\": \"strict\", \"coloraxis\": {\"colorbar\": {\"outlinewidth\": 0, \"ticks\": \"\"}}, \"colorscale\": {\"diverging\": [[0, \"#8e0152\"], [0.1, \"#c51b7d\"], [0.2, \"#de77ae\"], [0.3, \"#f1b6da\"], [0.4, \"#fde0ef\"], [0.5, \"#f7f7f7\"], [0.6, \"#e6f5d0\"], [0.7, \"#b8e186\"], [0.8, \"#7fbc41\"], [0.9, \"#4d9221\"], [1, \"#276419\"]], \"sequential\": [[0.0, \"#0d0887\"], [0.1111111111111111, \"#46039f\"], [0.2222222222222222, \"#7201a8\"], [0.3333333333333333, \"#9c179e\"], [0.4444444444444444, \"#bd3786\"], [0.5555555555555556, \"#d8576b\"], [0.6666666666666666, \"#ed7953\"], [0.7777777777777778, \"#fb9f3a\"], [0.8888888888888888, \"#fdca26\"], [1.0, \"#f0f921\"]], \"sequentialminus\": [[0.0, \"#0d0887\"], [0.1111111111111111, \"#46039f\"], [0.2222222222222222, \"#7201a8\"], [0.3333333333333333, \"#9c179e\"], [0.4444444444444444, \"#bd3786\"], [0.5555555555555556, \"#d8576b\"], [0.6666666666666666, \"#ed7953\"], [0.7777777777777778, \"#fb9f3a\"], [0.8888888888888888, \"#fdca26\"], [1.0, \"#f0f921\"]]}, \"colorway\": [\"#636efa\", \"#EF553B\", \"#00cc96\", \"#ab63fa\", \"#FFA15A\", \"#19d3f3\", \"#FF6692\", \"#B6E880\", \"#FF97FF\", \"#FECB52\"], \"font\": {\"color\": \"#2a3f5f\"}, \"geo\": {\"bgcolor\": \"white\", \"lakecolor\": \"white\", \"landcolor\": \"#E5ECF6\", \"showlakes\": true, \"showland\": true, \"subunitcolor\": \"white\"}, \"hoverlabel\": {\"align\": \"left\"}, \"hovermode\": \"closest\", \"mapbox\": {\"style\": \"light\"}, \"paper_bgcolor\": \"white\", \"plot_bgcolor\": \"#E5ECF6\", \"polar\": {\"angularaxis\": {\"gridcolor\": \"white\", \"linecolor\": \"white\", \"ticks\": \"\"}, \"bgcolor\": \"#E5ECF6\", \"radialaxis\": {\"gridcolor\": \"white\", \"linecolor\": \"white\", \"ticks\": \"\"}}, \"scene\": {\"xaxis\": {\"backgroundcolor\": \"#E5ECF6\", \"gridcolor\": \"white\", \"gridwidth\": 2, \"linecolor\": \"white\", \"showbackground\": true, \"ticks\": \"\", \"zerolinecolor\": \"white\"}, \"yaxis\": {\"backgroundcolor\": \"#E5ECF6\", \"gridcolor\": \"white\", \"gridwidth\": 2, \"linecolor\": \"white\", \"showbackground\": true, \"ticks\": \"\", \"zerolinecolor\": \"white\"}, \"zaxis\": {\"backgroundcolor\": \"#E5ECF6\", \"gridcolor\": \"white\", \"gridwidth\": 2, \"linecolor\": \"white\", \"showbackground\": true, \"ticks\": \"\", \"zerolinecolor\": \"white\"}}, \"shapedefaults\": {\"line\": {\"color\": \"#2a3f5f\"}}, \"ternary\": {\"aaxis\": {\"gridcolor\": \"white\", \"linecolor\": \"white\", \"ticks\": \"\"}, \"baxis\": {\"gridcolor\": \"white\", \"linecolor\": \"white\", \"ticks\": \"\"}, \"bgcolor\": \"#E5ECF6\", \"caxis\": {\"gridcolor\": \"white\", \"linecolor\": \"white\", \"ticks\": \"\"}}, \"title\": {\"x\": 0.05}, \"xaxis\": {\"automargin\": true, \"gridcolor\": \"white\", \"linecolor\": \"white\", \"ticks\": \"\", \"title\": {\"standoff\": 15}, \"zerolinecolor\": \"white\", \"zerolinewidth\": 2}, \"yaxis\": {\"automargin\": true, \"gridcolor\": \"white\", \"linecolor\": \"white\", \"ticks\": \"\", \"title\": {\"standoff\": 15}, \"zerolinecolor\": \"white\", \"zerolinewidth\": 2}}}, \"width\": 700, \"xaxis\": {\"anchor\": \"y\", \"domain\": [0.0, 1.0], \"title\": {\"text\": \"Sample Sizes\"}}, \"yaxis\": {\"anchor\": \"x\", \"domain\": [0.0, 1.0], \"title\": {\"text\": \"Difference in Means\"}}},                        {\"responsive\": true}                    ).then(function(){\n                            \nvar gd = document.getElementById('8f05b020-3332-4420-a91c-a63fbdad482d');\nvar x = new MutationObserver(function (mutations, observer) {{\n        var display = window.getComputedStyle(gd).display;\n        if (!display || display === 'none') {{\n            console.log([gd, 'removed!']);\n            Plotly.purge(gd);\n            observer.disconnect();\n        }}\n}});\n\n// Listen for the removal of the full notebook cells\nvar notebookContainer = gd.closest('#notebook-container');\nif (notebookContainer) {{\n    x.observe(notebookContainer, {childList: true});\n}}\n\n// Listen for the clearing of the current output cell\nvar outputEl = gd.closest('.output');\nif (outputEl) {{\n    x.observe(outputEl, {childList: true});\n}}\n\n                        })                };                            </script>        </div>\n</body>\n</html>"
          },
          "metadata": {},
          "output_type": "display_data"
        }
      ],
      "execution_count": 201
    },
    {
      "cell_type": "markdown",
      "source": "<a style='text-decoration:none;line-height:16px;display:flex;color:#5B5B62;padding:10px;justify-content:end;' href='https://deepnote.com?utm_source=created-in-deepnote-cell&projectId=02fc3dda-938a-456c-9bfd-3fca5ed2679f' target=\"_blank\">\n<img alt='Created in deepnote.com' style='display:inline;max-height:16px;margin:0px;margin-right:7.5px;' src='data:image/svg+xml;base64,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' > </img>\nCreated in <span style='font-weight:600;margin-left:4px;'>Deepnote</span></a>",
      "metadata": {
        "tags": [],
        "created_in_deepnote_cell": true,
        "deepnote_cell_type": "markdown"
      }
    }
  ],
  "nbformat": 4,
  "nbformat_minor": 2,
  "metadata": {
    "orig_nbformat": 2,
    "deepnote": {
      "is_reactive": false
    },
    "deepnote_notebook_id": "1b3c5ae9-1102-4f91-8eee-5bdc3acfdb5b",
    "deepnote_execution_queue": []
  }
}