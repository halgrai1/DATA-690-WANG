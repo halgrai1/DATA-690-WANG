{
  "nbformat": 4,
  "nbformat_minor": 0,
  "metadata": {
    "kernelspec": {
      "display_name": "Python 3",
      "language": "python",
      "name": "python3"
    },
    "language_info": {
      "codemirror_mode": {
        "name": "ipython",
        "version": 3
      },
      "file_extension": ".py",
      "mimetype": "text/x-python",
      "name": "python",
      "nbconvert_exporter": "python",
      "pygments_lexer": "ipython3",
      "version": "3.7.1"
    },
    "colab": {
      "name": "Assignment_09.ipynb",
      "provenance": []
    }
  },
  "cells": [
    {
      "cell_type": "markdown",
      "metadata": {
        "id": "QO-ZnKTTvwjM"
      },
      "source": [
        "### Assignment # 09 - Point Estimate and Interval Estimate (Confidence Interval)\n",
        "\n",
        "**Author**: Hala Algrain\n",
        "**Date**: 4.25.2021\n",
        "\n"
      ]
    },
    {
      "cell_type": "markdown",
      "metadata": {
        "id": "F7C1WMTX6yZx"
      },
      "source": [
        "A random survey of enrollment at **35** community colleges across the United States yielded the following figures: \n",
        "\n",
        "6,414; 1,550; 2,109; 9,350; 21,828; 4,300; 5,944; 5,722; 2,825; 2,044;\n",
        "\n",
        "5,481; 5,200; 5,853; 2,750; 10,012; 6,357; 27,000; 9,414; 7,681; 3,200; \n",
        "\n",
        "17,500; 9,200; 7,380; 18,314; 6,557; 13,713; 17,768; 7,493; 2,771; 2,861; \n",
        "\n",
        "1,263; 7,285; 28,165; 5,080; 11,622\n"
      ]
    },
    {
      "cell_type": "markdown",
      "metadata": {
        "id": "BGDuBShM63_N"
      },
      "source": [
        "Perform point estimate and interval estimate with **95% confidence level** using **t-distribution**.\n",
        "\n",
        "Since we don't know the population variance, we use t-distribiution instead of normal distribution."
      ]
    },
    {
      "cell_type": "code",
      "metadata": {
        "id": "RQBJ3BvgvwjO"
      },
      "source": [
        "# Import Python packages\n",
        "\n",
        "import math\n",
        "import numpy as np\n",
        "import pandas as pd\n",
        "import scipy.stats\n"
      ],
      "execution_count": 45,
      "outputs": []
    },
    {
      "cell_type": "markdown",
      "metadata": {
        "id": "yGj7WnubvwjP"
      },
      "source": [
        "### Step 0 - Data Preprocessing \n",
        "\n",
        "Process the raw data to make a list of integers. In order to calculate descriptive statistic, Python needs to work with a list of numbers.\n",
        "### note:\n",
        "Don't manually make the list by hand-typing the numbers. Write code to automate the data preparation."
      ]
    },
    {
      "cell_type": "code",
      "metadata": {
        "id": "FKeAFctVvwjP",
        "colab": {
          "base_uri": "https://localhost:8080/",
          "height": 52
        },
        "outputId": "9ef221cf-0cd9-446d-decf-3e67826789ec"
      },
      "source": [
        "# make each line of numbers a string object and then concatenate them together \n",
        "# The end result is one single string containing 35 numbers separated by \";\"\n",
        "\n",
        "data_1 = \"6,414; 1,550; 2,109; 9,350; 21,828; 4,300; 5,944; 5,722; 2,825; 2,044;\" \n",
        "data_2 = \"5,481; 5,200; 5,853; 2,750; 10,012; 6,357; 27,000; 9,414; 7,681; 3,200; \"\n",
        "data_3 = \"17,500; 9,200; 7,380; 18,314; 6,557; 13,713; 17,768; 7,493; 2,771; 2,861; \"\n",
        "data_4 = \"1,263; 7,285; 28,165; 5,080; 11,622\"\n",
        "data = data_1 + data_2 + data_3 + data_4\n",
        "data"
      ],
      "execution_count": 14,
      "outputs": [
        {
          "output_type": "execute_result",
          "data": {
            "application/vnd.google.colaboratory.intrinsic+json": {
              "type": "string"
            },
            "text/plain": [
              "'6,414; 1,550; 2,109; 9,350; 21,828; 4,300; 5,944; 5,722; 2,825; 2,044;5,481; 5,200; 5,853; 2,750; 10,012; 6,357; 27,000; 9,414; 7,681; 3,200; 17,500; 9,200; 7,380; 18,314; 6,557; 13,713; 17,768; 7,493; 2,771; 2,861; 1,263; 7,285; 28,165; 5,080; 11,622'"
            ]
          },
          "metadata": {
            "tags": []
          },
          "execution_count": 14
        }
      ]
    },
    {
      "cell_type": "code",
      "metadata": {
        "id": "jY622A35vwjU",
        "colab": {
          "base_uri": "https://localhost:8080/"
        },
        "outputId": "da50f80e-1c47-42be-c93f-ba2099a7dbb1"
      },
      "source": [
        "# Convert the single string to a list of strings using split() function\n",
        "# Make sure to specify a delimter or separator\n",
        "\n",
        "data2 = data.split(\";\")\n",
        "data2"
      ],
      "execution_count": 15,
      "outputs": [
        {
          "output_type": "execute_result",
          "data": {
            "text/plain": [
              "['6,414',\n",
              " ' 1,550',\n",
              " ' 2,109',\n",
              " ' 9,350',\n",
              " ' 21,828',\n",
              " ' 4,300',\n",
              " ' 5,944',\n",
              " ' 5,722',\n",
              " ' 2,825',\n",
              " ' 2,044',\n",
              " '5,481',\n",
              " ' 5,200',\n",
              " ' 5,853',\n",
              " ' 2,750',\n",
              " ' 10,012',\n",
              " ' 6,357',\n",
              " ' 27,000',\n",
              " ' 9,414',\n",
              " ' 7,681',\n",
              " ' 3,200',\n",
              " ' 17,500',\n",
              " ' 9,200',\n",
              " ' 7,380',\n",
              " ' 18,314',\n",
              " ' 6,557',\n",
              " ' 13,713',\n",
              " ' 17,768',\n",
              " ' 7,493',\n",
              " ' 2,771',\n",
              " ' 2,861',\n",
              " ' 1,263',\n",
              " ' 7,285',\n",
              " ' 28,165',\n",
              " ' 5,080',\n",
              " ' 11,622']"
            ]
          },
          "metadata": {
            "tags": []
          },
          "execution_count": 15
        }
      ]
    },
    {
      "cell_type": "markdown",
      "metadata": {
        "id": "S3loEFuJ3fdT"
      },
      "source": [
        "Create a list of integers from the list of strings using List Comprehension or for loop. Make sure to remove the \",\" first and then convert the strings to integers."
      ]
    },
    {
      "cell_type": "code",
      "metadata": {
        "id": "_b8yjF0hvwjV",
        "colab": {
          "base_uri": "https://localhost:8080/"
        },
        "outputId": "8005869e-085c-4096-de84-d81bf2959fdf"
      },
      "source": [
        "# Using List Comprehension\n",
        "\n",
        "data3 = [int(s.replace(',','')) for s in data2]\n",
        "data3"
      ],
      "execution_count": 28,
      "outputs": [
        {
          "output_type": "execute_result",
          "data": {
            "text/plain": [
              "[6414,\n",
              " 1550,\n",
              " 2109,\n",
              " 9350,\n",
              " 21828,\n",
              " 4300,\n",
              " 5944,\n",
              " 5722,\n",
              " 2825,\n",
              " 2044,\n",
              " 5481,\n",
              " 5200,\n",
              " 5853,\n",
              " 2750,\n",
              " 10012,\n",
              " 6357,\n",
              " 27000,\n",
              " 9414,\n",
              " 7681,\n",
              " 3200,\n",
              " 17500,\n",
              " 9200,\n",
              " 7380,\n",
              " 18314,\n",
              " 6557,\n",
              " 13713,\n",
              " 17768,\n",
              " 7493,\n",
              " 2771,\n",
              " 2861,\n",
              " 1263,\n",
              " 7285,\n",
              " 28165,\n",
              " 5080,\n",
              " 11622]"
            ]
          },
          "metadata": {
            "tags": []
          },
          "execution_count": 28
        }
      ]
    },
    {
      "cell_type": "code",
      "metadata": {
        "id": "zHvdPZomvwjW",
        "colab": {
          "base_uri": "https://localhost:8080/"
        },
        "outputId": "5eaef990-59e7-46b4-d185-f93ae9425190"
      },
      "source": [
        "# Use for loop\n",
        "\n",
        "data4 = []\n",
        "for i in data2:\n",
        "  i = int(i.replace(',',''))\n",
        "  data4.append(i)\n",
        "\n",
        "data4"
      ],
      "execution_count": 33,
      "outputs": [
        {
          "output_type": "execute_result",
          "data": {
            "text/plain": [
              "[6414,\n",
              " 1550,\n",
              " 2109,\n",
              " 9350,\n",
              " 21828,\n",
              " 4300,\n",
              " 5944,\n",
              " 5722,\n",
              " 2825,\n",
              " 2044,\n",
              " 5481,\n",
              " 5200,\n",
              " 5853,\n",
              " 2750,\n",
              " 10012,\n",
              " 6357,\n",
              " 27000,\n",
              " 9414,\n",
              " 7681,\n",
              " 3200,\n",
              " 17500,\n",
              " 9200,\n",
              " 7380,\n",
              " 18314,\n",
              " 6557,\n",
              " 13713,\n",
              " 17768,\n",
              " 7493,\n",
              " 2771,\n",
              " 2861,\n",
              " 1263,\n",
              " 7285,\n",
              " 28165,\n",
              " 5080,\n",
              " 11622]"
            ]
          },
          "metadata": {
            "tags": []
          },
          "execution_count": 33
        }
      ]
    },
    {
      "cell_type": "markdown",
      "metadata": {
        "id": "rztZ5pJtvwjX"
      },
      "source": [
        "### Step 1 - Calculate and Display the Sample Size and Sample Mean"
      ]
    },
    {
      "cell_type": "code",
      "metadata": {
        "id": "MRjPNo1kvwjX",
        "colab": {
          "base_uri": "https://localhost:8080/"
        },
        "outputId": "5a5a7cec-c792-4b59-a498-2dffebdc133e"
      },
      "source": [
        "# Calculate and display the sample size\n",
        "\n",
        "sample_size = len(data3)\n",
        "sample_size"
      ],
      "execution_count": 36,
      "outputs": [
        {
          "output_type": "execute_result",
          "data": {
            "text/plain": [
              "35"
            ]
          },
          "metadata": {
            "tags": []
          },
          "execution_count": 36
        }
      ]
    },
    {
      "cell_type": "code",
      "metadata": {
        "id": "Sfe6XfmWvwjY",
        "colab": {
          "base_uri": "https://localhost:8080/"
        },
        "outputId": "5fb5aa3f-ab7f-434b-9e38-9d944a60eb45"
      },
      "source": [
        "# Calculate and display the sample mean\n",
        "\n",
        "sample_mean = sum(data3) / len(data3)\n",
        "round(sample_mean)\n"
      ],
      "execution_count": 39,
      "outputs": [
        {
          "output_type": "execute_result",
          "data": {
            "text/plain": [
              "8629"
            ]
          },
          "metadata": {
            "tags": []
          },
          "execution_count": 39
        }
      ]
    },
    {
      "cell_type": "markdown",
      "metadata": {
        "id": "uJl_KNgVvwjZ"
      },
      "source": [
        "The point estimate of the mean enrollment of US community colleges is **8629**."
      ]
    },
    {
      "cell_type": "markdown",
      "metadata": {
        "id": "FE43zdBnvwja"
      },
      "source": [
        "### Step 2 - Calculate and Display the Sample Standard Deviation & Sample Standard Error\n",
        "\n",
        "Sample Standard Deviation $S=\\sqrt{\\dfrac{1}{n-1}\\sum\\limits_{i=1}^n (X_i-\\bar{X})^2}$\n",
        "\n",
        "Sample Standard Error = $\\dfrac{S}{\\sqrt{n}}$\n",
        "\n",
        "Note: The default **Delta Degree of Freedom (DDOF)** for Numpy's std function is 0 which is applicable to populate data. For sample data, we need to specify **ddof=1**. \n",
        "\n",
        "For the enrollment data, we round up the statistics to be the full integers (no decimal points).\n"
      ]
    },
    {
      "cell_type": "code",
      "metadata": {
        "id": "Yy2-ewJSvwja",
        "colab": {
          "base_uri": "https://localhost:8080/"
        },
        "outputId": "1fb604a2-fefc-4ee8-985f-294cdd4c83a3"
      },
      "source": [
        "# Calculate and display the sample standard deviation using Numpy's std function.\n",
        "\n",
        "sample_std = np.std(data3, ddof=1)\n",
        "round(sample_std)\n"
      ],
      "execution_count": 41,
      "outputs": [
        {
          "output_type": "execute_result",
          "data": {
            "text/plain": [
              "6944"
            ]
          },
          "metadata": {
            "tags": []
          },
          "execution_count": 41
        }
      ]
    },
    {
      "cell_type": "code",
      "metadata": {
        "id": "l_VyIgHTvwjc",
        "colab": {
          "base_uri": "https://localhost:8080/"
        },
        "outputId": "51c9882e-034d-43cd-a11f-280ce9278054"
      },
      "source": [
        "# Calculate and display the sample standard error\n",
        "\n",
        "sample_err = sample_std / math.sqrt(sample_size) \n",
        "round(sample_err)\n"
      ],
      "execution_count": 61,
      "outputs": [
        {
          "output_type": "execute_result",
          "data": {
            "text/plain": [
              "1174"
            ]
          },
          "metadata": {
            "tags": []
          },
          "execution_count": 61
        }
      ]
    },
    {
      "cell_type": "markdown",
      "metadata": {
        "id": "IynJoUaJvwjc"
      },
      "source": [
        "### Step 3 - Calculate t Critical Value using t-Distribution \n",
        "\n",
        "$\\alpha$ = 1 - Confidence Level = 1 - 95% = 0.05\n",
        "\n",
        "$\\dfrac{\\alpha}{2}$ = 0.025\n",
        "\n",
        "n (sample size) = 35\n",
        "\n",
        "df (degree of freedom) = n - 1 = 35 - 1 = 34\n",
        "\n",
        "We will use Python scipy.stats t-distribution's PPF (Percentage Point Function) to calculate t critical value $t_{0.025,34}$."
      ]
    },
    {
      "cell_type": "code",
      "metadata": {
        "id": "24_EeyVwvwjd",
        "colab": {
          "base_uri": "https://localhost:8080/"
        },
        "outputId": "31f6c14f-e0aa-4370-8ec4-b3f844118037"
      },
      "source": [
        "# Calculate and display the t critical value using scipy.stats.t package ppf function\n",
        "\n",
        "# q: The significance level to use\n",
        "# df: The degrees of freedom\n",
        "\n",
        "t_stat = scipy.stats.t.ppf(q=1-0.05/2,df=34)   #for two-tailed test\n",
        "round(t_stat,2)\n",
        "\n"
      ],
      "execution_count": 64,
      "outputs": [
        {
          "output_type": "execute_result",
          "data": {
            "text/plain": [
              "2.03"
            ]
          },
          "metadata": {
            "tags": []
          },
          "execution_count": 64
        }
      ]
    },
    {
      "cell_type": "markdown",
      "metadata": {
        "id": "qyyUKSjhvwje"
      },
      "source": [
        "### Step 4 - Calculate the Margin of Error\n",
        "\n",
        "Margin of Error = t-Statistics * Sample Standard Error = $t_{\\alpha/2,n-1}\\left(\\dfrac{s}{\\sqrt{n}}\\right)$"
      ]
    },
    {
      "cell_type": "code",
      "metadata": {
        "id": "13aQGtICvwje",
        "colab": {
          "base_uri": "https://localhost:8080/"
        },
        "outputId": "0c019ebd-1ccf-4c89-cb08-2eca0e31e00b"
      },
      "source": [
        "# Calculate and display the margin of error\n",
        "\n",
        "\n",
        "margin_err = t_stat * sample_err\n",
        "round(margin_err)  \n",
        "\n",
        "# difference of 2 b/w my answer and yours.\n",
        "# possibly due to rounding?\n"
      ],
      "execution_count": 63,
      "outputs": [
        {
          "output_type": "execute_result",
          "data": {
            "text/plain": [
              "2385"
            ]
          },
          "metadata": {
            "tags": []
          },
          "execution_count": 63
        }
      ]
    },
    {
      "cell_type": "markdown",
      "metadata": {
        "id": "W5C_lR0lvwje"
      },
      "source": [
        "### Step 5 - Calculate Lower and Upper Limit of the Confidence Interval\n",
        "\n",
        "Lower Limit = Sample Mean - Margin of Error\n",
        "\n",
        "Upper Limit = Sample Mean + Margin of Error"
      ]
    },
    {
      "cell_type": "code",
      "metadata": {
        "id": "-n9Vs8Kfvwje",
        "colab": {
          "base_uri": "https://localhost:8080/"
        },
        "outputId": "a5377c16-cfdd-475a-b556-de3968004199"
      },
      "source": [
        "# Calculate and display the lower limit\n",
        "\n",
        "low_lim = sample_mean - margin_err\n",
        "low_lim = round(low_lim,1)\n",
        "low_lim"
      ],
      "execution_count": 71,
      "outputs": [
        {
          "output_type": "execute_result",
          "data": {
            "text/plain": [
              "6243.4"
            ]
          },
          "metadata": {
            "tags": []
          },
          "execution_count": 71
        }
      ]
    },
    {
      "cell_type": "code",
      "metadata": {
        "id": "gyH6Ii_3vwje",
        "colab": {
          "base_uri": "https://localhost:8080/"
        },
        "outputId": "3d70eaa3-b412-4eff-c3f2-6d1df3b37a6f"
      },
      "source": [
        "# Calculate and display the upper limit\n",
        "\n",
        "upp_lim = sample_mean + margin_err\n",
        "upp_lim = round(upp_lim,1)\n",
        "upp_lim\n"
      ],
      "execution_count": 72,
      "outputs": [
        {
          "output_type": "execute_result",
          "data": {
            "text/plain": [
              "11014.1"
            ]
          },
          "metadata": {
            "tags": []
          },
          "execution_count": 72
        }
      ]
    },
    {
      "cell_type": "markdown",
      "metadata": {
        "id": "ZGeD7v16vwje"
      },
      "source": [
        "### Step 6 - Now We have the 95% Confidence Interval\n",
        "Confidence Interval ($\\sigma$ unknown) = $\\bar{x}\\space\\pm\\space t_{\\alpha/2}\\left(\\dfrac{S}{\\sqrt{n}}\\right)$ = Sample_Mean $\\pm$ Margin of Error"
      ]
    },
    {
      "cell_type": "code",
      "metadata": {
        "id": "lGOOdnOmvwje",
        "colab": {
          "base_uri": "https://localhost:8080/"
        },
        "outputId": "f8716cda-aa7e-49b0-f69d-23f67329ae63"
      },
      "source": [
        "# Print the 95% confidence interveral in the form (lower limit, upper limit)\n",
        "\n",
        "print(\"The 95% Confidence Interval = (\",low_lim, \") , (\",upp_lim, \")\")\n"
      ],
      "execution_count": 76,
      "outputs": [
        {
          "output_type": "stream",
          "text": [
            "The 95% Confidence Interval = ( 6243.4 ) , ( 11014.1 )\n"
          ],
          "name": "stdout"
        }
      ]
    },
    {
      "cell_type": "markdown",
      "metadata": {
        "id": "ntrz7Ouevwjf"
      },
      "source": [
        "### The End"
      ]
    }
  ]
}