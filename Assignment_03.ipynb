{
  "nbformat": 4,
  "nbformat_minor": 0,
  "metadata": {
    "colab": {
      "name": "Assignment_03.ipynb",
      "provenance": [],
      "authorship_tag": "ABX9TyP9M7gVYQaJVwaSdZBDSc9T",
      "include_colab_link": true
    },
    "kernelspec": {
      "name": "python3",
      "display_name": "Python 3"
    }
  },
  "cells": [
    {
      "cell_type": "markdown",
      "metadata": {
        "id": "view-in-github",
        "colab_type": "text"
      },
      "source": [
        "<a href=\"https://colab.research.google.com/github/halgrai1/DATA-690-WANG/blob/main/Assignment_03.ipynb\" target=\"_parent\"><img src=\"https://colab.research.google.com/assets/colab-badge.svg\" alt=\"Open In Colab\"/></a>"
      ]
    },
    {
      "cell_type": "markdown",
      "metadata": {
        "id": "3dpnliEVIZcr"
      },
      "source": [
        "## Assignment 3\n",
        "**Author:** Hala Algrain\n",
        "\n",
        "**Date:** 2.14.2021\n",
        "\n",
        "Write a program that generates 100 random integers between 0 and 9.\n",
        "\n",
        "[assignment instructions](https://github.com/wcj365/python-stats-dataviz/blob/master/assignments/assignment_03.md)"
      ]
    },
    {
      "cell_type": "markdown",
      "metadata": {
        "id": "c4iC5eZDIdcR"
      },
      "source": [
        "#### 1. Print them in a 10 by 10 matrix neatly arranged like the following (one space between each number).\n"
      ]
    },
    {
      "cell_type": "code",
      "metadata": {
        "id": "gC3kYtiuILr0",
        "colab": {
          "base_uri": "https://localhost:8080/"
        },
        "outputId": "2e4c55e4-2ca7-4f05-e0dd-47eb7c7e5908"
      },
      "source": [
        "import random\n",
        "list1 = []\n",
        "for i in range(10):\n",
        "  for j in range(10):\n",
        "    j=random.randint(0,9)\n",
        "    list1.append(j)\n",
        "    print(j, sep=\"   \",end=\" \")\n",
        "  print(\"\\n\")"
      ],
      "execution_count": null,
      "outputs": [
        {
          "output_type": "stream",
          "text": [
            "2 1 5 8 3 3 6 5 3 2 \n",
            "\n",
            "9 9 6 6 7 4 7 3 7 0 \n",
            "\n",
            "6 2 4 3 8 1 1 0 2 8 \n",
            "\n",
            "2 3 0 5 9 9 8 7 6 7 \n",
            "\n",
            "4 9 4 6 8 1 8 2 3 7 \n",
            "\n",
            "5 8 4 2 5 2 2 9 8 1 \n",
            "\n",
            "7 7 1 4 3 8 7 2 4 9 \n",
            "\n",
            "7 0 8 0 7 9 9 0 5 4 \n",
            "\n",
            "1 6 1 0 1 5 3 1 3 5 \n",
            "\n",
            "8 1 2 6 3 6 1 7 7 7 \n",
            "\n"
          ],
          "name": "stdout"
        }
      ]
    },
    {
      "cell_type": "markdown",
      "metadata": {
        "id": "LsaUEsBmXg50"
      },
      "source": [
        "#### 2. If the random number is an odd number, print \"@\" instead.\n"
      ]
    },
    {
      "cell_type": "code",
      "metadata": {
        "id": "TAG4dy-4Xh9n",
        "colab": {
          "base_uri": "https://localhost:8080/"
        },
        "outputId": "e3bd799e-49a5-4885-b1a2-0c6fc2ceac8f"
      },
      "source": [
        "import random\n",
        "list2 = []\n",
        "for i in range(10):\n",
        "  for j in range(10):\n",
        "    j=random.randint(0,9)\n",
        "    list2.append(j)\n",
        "    mod = j % 2\n",
        "    if mod > 0:\n",
        "      j=\"@\"\n",
        "    print(j, sep=\"   \",end=\" \")\n",
        "  print(\"\\n\")"
      ],
      "execution_count": null,
      "outputs": [
        {
          "output_type": "stream",
          "text": [
            "6 @ @ @ @ 4 4 8 0 @ \n",
            "\n",
            "8 @ 8 @ @ @ @ 2 4 8 \n",
            "\n",
            "8 @ 6 @ @ @ @ 8 2 @ \n",
            "\n",
            "2 @ 0 @ @ @ 0 @ 2 @ \n",
            "\n",
            "6 6 2 4 2 @ 0 8 @ 0 \n",
            "\n",
            "6 @ 4 @ @ 8 @ 2 @ @ \n",
            "\n",
            "@ 6 @ @ 0 @ 0 4 @ 2 \n",
            "\n",
            "6 6 @ 6 4 4 @ 6 4 @ \n",
            "\n",
            "2 2 @ 6 4 6 4 8 @ @ \n",
            "\n",
            "@ 4 @ @ 8 @ @ 2 @ @ \n",
            "\n"
          ],
          "name": "stdout"
        }
      ]
    },
    {
      "cell_type": "markdown",
      "metadata": {
        "id": "WdJysvo9ZA9x"
      },
      "source": [
        "#### 3. Calculate and Print the total of each row ] (use \"*\" to separate the total from the numbers)."
      ]
    },
    {
      "cell_type": "code",
      "metadata": {
        "id": "WZH6AeGqZFLD",
        "colab": {
          "base_uri": "https://localhost:8080/"
        },
        "outputId": "271a3006-4eef-49bc-f4f7-b10ae1dbd566"
      },
      "source": [
        "import random\n",
        "list3 = []\n",
        "for i in range(10):\n",
        "  for j in range(10):\n",
        "    j=random.randint(0,9)\n",
        "    list3.append(j)\n",
        "    # sum of the last row i.e\n",
        "    # sum of last ten numbers of list\n",
        "    sum3 = sum(list3[-10:])\n",
        "    print(j, sep=\"   \",end=\" \")\n",
        "    \n",
        "  print(\"*\", sum3)\n",
        "  print(\"\\n\")"
      ],
      "execution_count": null,
      "outputs": [
        {
          "output_type": "stream",
          "text": [
            "7 4 5 9 0 7 5 0 6 0 * 43\n",
            "\n",
            "\n",
            "5 1 5 2 3 5 6 7 6 3 * 43\n",
            "\n",
            "\n",
            "0 2 9 7 2 8 4 2 9 2 * 45\n",
            "\n",
            "\n",
            "3 6 3 6 1 1 7 8 3 9 * 47\n",
            "\n",
            "\n",
            "8 5 6 5 9 2 6 1 7 2 * 51\n",
            "\n",
            "\n",
            "8 6 5 4 2 9 7 5 2 8 * 56\n",
            "\n",
            "\n",
            "0 6 3 9 8 6 7 2 8 4 * 53\n",
            "\n",
            "\n",
            "5 7 2 3 9 5 8 4 3 0 * 46\n",
            "\n",
            "\n",
            "0 8 7 6 0 5 0 9 7 5 * 47\n",
            "\n",
            "\n",
            "4 2 6 9 8 5 3 1 5 7 * 50\n",
            "\n",
            "\n"
          ],
          "name": "stdout"
        }
      ]
    },
    {
      "cell_type": "markdown",
      "metadata": {
        "id": "Kzr1_JeAc5WP"
      },
      "source": [
        "#### 4. Optional: Surround the matrix with asterisks (*) "
      ]
    },
    {
      "cell_type": "code",
      "metadata": {
        "id": "zxG2mm-tdBYa",
        "colab": {
          "base_uri": "https://localhost:8080/"
        },
        "outputId": "a1c971bd-049d-4568-ac8a-dab7151f6900"
      },
      "source": [
        "import random\n",
        "list1 = []\n",
        "print(\"*********************\")\n",
        "for i in range(10):\n",
        "  print(\"*\", end=\"\")\n",
        "  for j in range(10):\n",
        "    j=random.randint(0,9)\n",
        "    list1.append(j)\n",
        "    print(j, sep=\"   \",end=\" \")\n",
        "  print(\"*\",\"\\n\")\n",
        "\n",
        "print(\"*********************\")"
      ],
      "execution_count": null,
      "outputs": [
        {
          "output_type": "stream",
          "text": [
            "*********************\n",
            "*6 8 0 4 1 2 8 3 8 0 * \n",
            "\n",
            "*4 4 6 9 1 4 0 2 5 9 * \n",
            "\n",
            "*8 1 5 6 7 7 7 5 8 4 * \n",
            "\n",
            "*0 8 5 3 4 7 0 5 9 5 * \n",
            "\n",
            "*0 0 2 7 9 8 2 5 8 1 * \n",
            "\n",
            "*1 7 7 1 0 9 5 3 9 2 * \n",
            "\n",
            "*1 2 8 5 5 7 3 6 7 4 * \n",
            "\n",
            "*8 4 1 2 4 7 2 1 6 6 * \n",
            "\n",
            "*2 2 7 9 8 5 7 5 1 5 * \n",
            "\n",
            "*0 1 3 1 7 8 6 1 7 8 * \n",
            "\n",
            "*********************\n"
          ],
          "name": "stdout"
        }
      ]
    }
  ]
}